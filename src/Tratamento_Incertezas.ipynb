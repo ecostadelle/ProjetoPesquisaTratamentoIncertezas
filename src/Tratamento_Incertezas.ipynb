{
  "nbformat": 4,
  "nbformat_minor": 0,
  "metadata": {
    "colab": {
      "name": "Tratamento Incertezas.ipynb",
      "provenance": [],
      "collapsed_sections": [],
      "include_colab_link": true
    },
    "kernelspec": {
      "name": "python3",
      "display_name": "Python 3"
    },
    "language_info": {
      "name": "python"
    }
  },
  "cells": [
    {
      "cell_type": "markdown",
      "metadata": {
        "id": "view-in-github",
        "colab_type": "text"
      },
      "source": [
        "<a href=\"https://colab.research.google.com/github/ecostadelle/ProjetoPesquisaTratamentoIncertezas/blob/main/src/Tratamento_Incertezas.ipynb\" target=\"_parent\"><img src=\"https://colab.research.google.com/assets/colab-badge.svg\" alt=\"Open In Colab\"/></a>"
      ]
    },
    {
      "cell_type": "code",
      "execution_count": null,
      "metadata": {
        "colab": {
          "base_uri": "https://localhost:8080/"
        },
        "id": "546pULw-pFm8",
        "outputId": "d307bf89-3c35-41d7-9555-49bce633169d"
      },
      "outputs": [
        {
          "output_type": "stream",
          "name": "stdout",
          "text": [
            "       ano  periodo estudante  ira_nb1  ira_mr1  ira_nb3  rec_s1  rec_s2  \\\n",
            "0     2013        2  1E3F43B5    66.40    71.67    71.27     3.0     0.0   \n",
            "1     2013        3  834ACD28    68.83    71.92    72.31     0.0     0.0   \n",
            "2     2013        3  E7AAEDC6    65.42    64.25    65.19     3.0     1.0   \n",
            "3     2013        3  64E8060D    70.42    71.25    72.00     2.0     0.0   \n",
            "4     2013        3  0F8AAB02    65.33    69.92    70.67     2.0     0.0   \n",
            "...    ...      ...       ...      ...      ...      ...     ...     ...   \n",
            "1139  2020        1  0AE66D11    52.50    62.50    66.08     7.0     8.0   \n",
            "1140  2020        1  79616288    46.88    48.50    49.96    10.0    11.0   \n",
            "1141  2020        1  04583447    29.19    32.19    25.38    15.0    15.0   \n",
            "1142  2020        1  ACE171F2    33.19    39.00    42.56    16.0     9.0   \n",
            "1143  2020        1  FE4DF1AA    82.94    79.44    81.54     1.0     3.0   \n",
            "\n",
            "      qtd_disciplinas    ap   ac    rt   rf resultado_final  \\\n",
            "0                  15  15.0  0.0   0.0  0.0        Aprovado   \n",
            "1                  12  12.0  0.0   0.0  0.0        Aprovado   \n",
            "2                  12  11.0  0.0   1.0  0.0        Aprovado   \n",
            "3                  12  12.0  0.0   0.0  0.0        Aprovado   \n",
            "4                  12  12.0  0.0   0.0  0.0        Aprovado   \n",
            "...               ...   ...  ...   ...  ...             ...   \n",
            "1139               16  16.0  0.0   0.0  0.0        Aprovado   \n",
            "1140               16   4.0  0.0  12.0  0.0       Reprovado   \n",
            "1141               16   0.0  0.0  16.0  0.0       Reprovado   \n",
            "1142               16   3.0  0.0  13.0  0.0       Reprovado   \n",
            "1143               16  16.0  0.0   0.0  0.0        Aprovado   \n",
            "\n",
            "           situacao_atual  grupo  \n",
            "0               Concluído    1.0  \n",
            "1               Concluído    2.0  \n",
            "2     Transferido Externo    0.0  \n",
            "3               Concluído    1.0  \n",
            "4               Concluído    1.0  \n",
            "...                   ...    ...  \n",
            "1139          Matriculado    1.0  \n",
            "1140  Transferido Externo   -1.0  \n",
            "1141  Transferido Externo   -1.0  \n",
            "1142  Transferido Externo   -1.0  \n",
            "1143          Matriculado    1.0  \n",
            "\n",
            "[1144 rows x 16 columns]\n"
          ]
        }
      ],
      "source": [
        "import pandas as pd\n",
        "from sklearn.model_selection import train_test_split\n",
        "from sklearn.metrics import accuracy_score\n",
        "from sklearn.ensemble import RandomForestClassifier\n",
        "from sklearn.metrics import accuracy_score, recall_score, confusion_matrix\n",
        "\n",
        "github = 'https://raw.githubusercontent.com/ecostadelle/RandomForestTex/main/db/transforma.csv'\n",
        "\n",
        "df = pd.read_csv(github, sep = ';',decimal=\",\")\n",
        "X = df[['ira_nb1', 'ira_mr1', 'ira_nb3', 'rec_s1']]\n",
        "y = y=df[['resultado_final']]\n",
        "\n",
        "print(df)"
      ]
    },
    {
      "cell_type": "code",
      "source": [
        "faixas=labels=['1D','1C','1B','1A']\n",
        "df['ira_nb1_d'] = pd.cut(x=df['ira_nb1'],bins=[0,25,50,75,100],labels=faixas)\n",
        "faixas=labels=['2D','2C','2B','2A']\n",
        "df['ira_mr1_d'] = pd.cut(x=df['ira_mr1'],bins=[0,25,50,75,100],labels=faixas)\n",
        "faixas=labels=['3D','3C','3B','3A']\n",
        "df['ira_nb3_d'] = pd.cut(x=df['ira_nb3'],bins=[0,25,50,75,100],labels=faixas)"
      ],
      "metadata": {
        "id": "TuQzJzvkpSzW"
      },
      "execution_count": null,
      "outputs": []
    },
    {
      "cell_type": "code",
      "source": [
        "df"
      ],
      "metadata": {
        "colab": {
          "base_uri": "https://localhost:8080/",
          "height": 537
        },
        "id": "Sj-cRjutxU46",
        "outputId": "71411773-7fc7-4882-953e-2dbb4da6624c"
      },
      "execution_count": null,
      "outputs": [
        {
          "output_type": "execute_result",
          "data": {
            "text/plain": [
              "       ano  periodo estudante  ira_nb1  ira_mr1  ira_nb3  rec_s1  rec_s2  \\\n",
              "0     2013        2  1E3F43B5    66.40    71.67    71.27     3.0     0.0   \n",
              "1     2013        3  834ACD28    68.83    71.92    72.31     0.0     0.0   \n",
              "2     2013        3  E7AAEDC6    65.42    64.25    65.19     3.0     1.0   \n",
              "3     2013        3  64E8060D    70.42    71.25    72.00     2.0     0.0   \n",
              "4     2013        3  0F8AAB02    65.33    69.92    70.67     2.0     0.0   \n",
              "...    ...      ...       ...      ...      ...      ...     ...     ...   \n",
              "1139  2020        1  0AE66D11    52.50    62.50    66.08     7.0     8.0   \n",
              "1140  2020        1  79616288    46.88    48.50    49.96    10.0    11.0   \n",
              "1141  2020        1  04583447    29.19    32.19    25.38    15.0    15.0   \n",
              "1142  2020        1  ACE171F2    33.19    39.00    42.56    16.0     9.0   \n",
              "1143  2020        1  FE4DF1AA    82.94    79.44    81.54     1.0     3.0   \n",
              "\n",
              "      qtd_disciplinas    ap   ac    rt   rf resultado_final  \\\n",
              "0                  15  15.0  0.0   0.0  0.0        Aprovado   \n",
              "1                  12  12.0  0.0   0.0  0.0        Aprovado   \n",
              "2                  12  11.0  0.0   1.0  0.0        Aprovado   \n",
              "3                  12  12.0  0.0   0.0  0.0        Aprovado   \n",
              "4                  12  12.0  0.0   0.0  0.0        Aprovado   \n",
              "...               ...   ...  ...   ...  ...             ...   \n",
              "1139               16  16.0  0.0   0.0  0.0        Aprovado   \n",
              "1140               16   4.0  0.0  12.0  0.0       Reprovado   \n",
              "1141               16   0.0  0.0  16.0  0.0       Reprovado   \n",
              "1142               16   3.0  0.0  13.0  0.0       Reprovado   \n",
              "1143               16  16.0  0.0   0.0  0.0        Aprovado   \n",
              "\n",
              "           situacao_atual  grupo ira_nb1_d ira_mr1_d ira_nb3_d  \n",
              "0               Concluído    1.0        1B        2B        3B  \n",
              "1               Concluído    2.0        1B        2B        3B  \n",
              "2     Transferido Externo    0.0        1B        2B        3B  \n",
              "3               Concluído    1.0        1B        2B        3B  \n",
              "4               Concluído    1.0        1B        2B        3B  \n",
              "...                   ...    ...       ...       ...       ...  \n",
              "1139          Matriculado    1.0        1B        2B        3B  \n",
              "1140  Transferido Externo   -1.0        1C        2C        3C  \n",
              "1141  Transferido Externo   -1.0        1C        2C        3C  \n",
              "1142  Transferido Externo   -1.0        1C        2C        3C  \n",
              "1143          Matriculado    1.0        1A        2A        3A  \n",
              "\n",
              "[1144 rows x 19 columns]"
            ],
            "text/html": [
              "\n",
              "  <div id=\"df-fc47cb38-b3d3-4115-8242-4140ebb05e29\">\n",
              "    <div class=\"colab-df-container\">\n",
              "      <div>\n",
              "<style scoped>\n",
              "    .dataframe tbody tr th:only-of-type {\n",
              "        vertical-align: middle;\n",
              "    }\n",
              "\n",
              "    .dataframe tbody tr th {\n",
              "        vertical-align: top;\n",
              "    }\n",
              "\n",
              "    .dataframe thead th {\n",
              "        text-align: right;\n",
              "    }\n",
              "</style>\n",
              "<table border=\"1\" class=\"dataframe\">\n",
              "  <thead>\n",
              "    <tr style=\"text-align: right;\">\n",
              "      <th></th>\n",
              "      <th>ano</th>\n",
              "      <th>periodo</th>\n",
              "      <th>estudante</th>\n",
              "      <th>ira_nb1</th>\n",
              "      <th>ira_mr1</th>\n",
              "      <th>ira_nb3</th>\n",
              "      <th>rec_s1</th>\n",
              "      <th>rec_s2</th>\n",
              "      <th>qtd_disciplinas</th>\n",
              "      <th>ap</th>\n",
              "      <th>ac</th>\n",
              "      <th>rt</th>\n",
              "      <th>rf</th>\n",
              "      <th>resultado_final</th>\n",
              "      <th>situacao_atual</th>\n",
              "      <th>grupo</th>\n",
              "      <th>ira_nb1_d</th>\n",
              "      <th>ira_mr1_d</th>\n",
              "      <th>ira_nb3_d</th>\n",
              "    </tr>\n",
              "  </thead>\n",
              "  <tbody>\n",
              "    <tr>\n",
              "      <th>0</th>\n",
              "      <td>2013</td>\n",
              "      <td>2</td>\n",
              "      <td>1E3F43B5</td>\n",
              "      <td>66.40</td>\n",
              "      <td>71.67</td>\n",
              "      <td>71.27</td>\n",
              "      <td>3.0</td>\n",
              "      <td>0.0</td>\n",
              "      <td>15</td>\n",
              "      <td>15.0</td>\n",
              "      <td>0.0</td>\n",
              "      <td>0.0</td>\n",
              "      <td>0.0</td>\n",
              "      <td>Aprovado</td>\n",
              "      <td>Concluído</td>\n",
              "      <td>1.0</td>\n",
              "      <td>1B</td>\n",
              "      <td>2B</td>\n",
              "      <td>3B</td>\n",
              "    </tr>\n",
              "    <tr>\n",
              "      <th>1</th>\n",
              "      <td>2013</td>\n",
              "      <td>3</td>\n",
              "      <td>834ACD28</td>\n",
              "      <td>68.83</td>\n",
              "      <td>71.92</td>\n",
              "      <td>72.31</td>\n",
              "      <td>0.0</td>\n",
              "      <td>0.0</td>\n",
              "      <td>12</td>\n",
              "      <td>12.0</td>\n",
              "      <td>0.0</td>\n",
              "      <td>0.0</td>\n",
              "      <td>0.0</td>\n",
              "      <td>Aprovado</td>\n",
              "      <td>Concluído</td>\n",
              "      <td>2.0</td>\n",
              "      <td>1B</td>\n",
              "      <td>2B</td>\n",
              "      <td>3B</td>\n",
              "    </tr>\n",
              "    <tr>\n",
              "      <th>2</th>\n",
              "      <td>2013</td>\n",
              "      <td>3</td>\n",
              "      <td>E7AAEDC6</td>\n",
              "      <td>65.42</td>\n",
              "      <td>64.25</td>\n",
              "      <td>65.19</td>\n",
              "      <td>3.0</td>\n",
              "      <td>1.0</td>\n",
              "      <td>12</td>\n",
              "      <td>11.0</td>\n",
              "      <td>0.0</td>\n",
              "      <td>1.0</td>\n",
              "      <td>0.0</td>\n",
              "      <td>Aprovado</td>\n",
              "      <td>Transferido Externo</td>\n",
              "      <td>0.0</td>\n",
              "      <td>1B</td>\n",
              "      <td>2B</td>\n",
              "      <td>3B</td>\n",
              "    </tr>\n",
              "    <tr>\n",
              "      <th>3</th>\n",
              "      <td>2013</td>\n",
              "      <td>3</td>\n",
              "      <td>64E8060D</td>\n",
              "      <td>70.42</td>\n",
              "      <td>71.25</td>\n",
              "      <td>72.00</td>\n",
              "      <td>2.0</td>\n",
              "      <td>0.0</td>\n",
              "      <td>12</td>\n",
              "      <td>12.0</td>\n",
              "      <td>0.0</td>\n",
              "      <td>0.0</td>\n",
              "      <td>0.0</td>\n",
              "      <td>Aprovado</td>\n",
              "      <td>Concluído</td>\n",
              "      <td>1.0</td>\n",
              "      <td>1B</td>\n",
              "      <td>2B</td>\n",
              "      <td>3B</td>\n",
              "    </tr>\n",
              "    <tr>\n",
              "      <th>4</th>\n",
              "      <td>2013</td>\n",
              "      <td>3</td>\n",
              "      <td>0F8AAB02</td>\n",
              "      <td>65.33</td>\n",
              "      <td>69.92</td>\n",
              "      <td>70.67</td>\n",
              "      <td>2.0</td>\n",
              "      <td>0.0</td>\n",
              "      <td>12</td>\n",
              "      <td>12.0</td>\n",
              "      <td>0.0</td>\n",
              "      <td>0.0</td>\n",
              "      <td>0.0</td>\n",
              "      <td>Aprovado</td>\n",
              "      <td>Concluído</td>\n",
              "      <td>1.0</td>\n",
              "      <td>1B</td>\n",
              "      <td>2B</td>\n",
              "      <td>3B</td>\n",
              "    </tr>\n",
              "    <tr>\n",
              "      <th>...</th>\n",
              "      <td>...</td>\n",
              "      <td>...</td>\n",
              "      <td>...</td>\n",
              "      <td>...</td>\n",
              "      <td>...</td>\n",
              "      <td>...</td>\n",
              "      <td>...</td>\n",
              "      <td>...</td>\n",
              "      <td>...</td>\n",
              "      <td>...</td>\n",
              "      <td>...</td>\n",
              "      <td>...</td>\n",
              "      <td>...</td>\n",
              "      <td>...</td>\n",
              "      <td>...</td>\n",
              "      <td>...</td>\n",
              "      <td>...</td>\n",
              "      <td>...</td>\n",
              "      <td>...</td>\n",
              "    </tr>\n",
              "    <tr>\n",
              "      <th>1139</th>\n",
              "      <td>2020</td>\n",
              "      <td>1</td>\n",
              "      <td>0AE66D11</td>\n",
              "      <td>52.50</td>\n",
              "      <td>62.50</td>\n",
              "      <td>66.08</td>\n",
              "      <td>7.0</td>\n",
              "      <td>8.0</td>\n",
              "      <td>16</td>\n",
              "      <td>16.0</td>\n",
              "      <td>0.0</td>\n",
              "      <td>0.0</td>\n",
              "      <td>0.0</td>\n",
              "      <td>Aprovado</td>\n",
              "      <td>Matriculado</td>\n",
              "      <td>1.0</td>\n",
              "      <td>1B</td>\n",
              "      <td>2B</td>\n",
              "      <td>3B</td>\n",
              "    </tr>\n",
              "    <tr>\n",
              "      <th>1140</th>\n",
              "      <td>2020</td>\n",
              "      <td>1</td>\n",
              "      <td>79616288</td>\n",
              "      <td>46.88</td>\n",
              "      <td>48.50</td>\n",
              "      <td>49.96</td>\n",
              "      <td>10.0</td>\n",
              "      <td>11.0</td>\n",
              "      <td>16</td>\n",
              "      <td>4.0</td>\n",
              "      <td>0.0</td>\n",
              "      <td>12.0</td>\n",
              "      <td>0.0</td>\n",
              "      <td>Reprovado</td>\n",
              "      <td>Transferido Externo</td>\n",
              "      <td>-1.0</td>\n",
              "      <td>1C</td>\n",
              "      <td>2C</td>\n",
              "      <td>3C</td>\n",
              "    </tr>\n",
              "    <tr>\n",
              "      <th>1141</th>\n",
              "      <td>2020</td>\n",
              "      <td>1</td>\n",
              "      <td>04583447</td>\n",
              "      <td>29.19</td>\n",
              "      <td>32.19</td>\n",
              "      <td>25.38</td>\n",
              "      <td>15.0</td>\n",
              "      <td>15.0</td>\n",
              "      <td>16</td>\n",
              "      <td>0.0</td>\n",
              "      <td>0.0</td>\n",
              "      <td>16.0</td>\n",
              "      <td>0.0</td>\n",
              "      <td>Reprovado</td>\n",
              "      <td>Transferido Externo</td>\n",
              "      <td>-1.0</td>\n",
              "      <td>1C</td>\n",
              "      <td>2C</td>\n",
              "      <td>3C</td>\n",
              "    </tr>\n",
              "    <tr>\n",
              "      <th>1142</th>\n",
              "      <td>2020</td>\n",
              "      <td>1</td>\n",
              "      <td>ACE171F2</td>\n",
              "      <td>33.19</td>\n",
              "      <td>39.00</td>\n",
              "      <td>42.56</td>\n",
              "      <td>16.0</td>\n",
              "      <td>9.0</td>\n",
              "      <td>16</td>\n",
              "      <td>3.0</td>\n",
              "      <td>0.0</td>\n",
              "      <td>13.0</td>\n",
              "      <td>0.0</td>\n",
              "      <td>Reprovado</td>\n",
              "      <td>Transferido Externo</td>\n",
              "      <td>-1.0</td>\n",
              "      <td>1C</td>\n",
              "      <td>2C</td>\n",
              "      <td>3C</td>\n",
              "    </tr>\n",
              "    <tr>\n",
              "      <th>1143</th>\n",
              "      <td>2020</td>\n",
              "      <td>1</td>\n",
              "      <td>FE4DF1AA</td>\n",
              "      <td>82.94</td>\n",
              "      <td>79.44</td>\n",
              "      <td>81.54</td>\n",
              "      <td>1.0</td>\n",
              "      <td>3.0</td>\n",
              "      <td>16</td>\n",
              "      <td>16.0</td>\n",
              "      <td>0.0</td>\n",
              "      <td>0.0</td>\n",
              "      <td>0.0</td>\n",
              "      <td>Aprovado</td>\n",
              "      <td>Matriculado</td>\n",
              "      <td>1.0</td>\n",
              "      <td>1A</td>\n",
              "      <td>2A</td>\n",
              "      <td>3A</td>\n",
              "    </tr>\n",
              "  </tbody>\n",
              "</table>\n",
              "<p>1144 rows × 19 columns</p>\n",
              "</div>\n",
              "      <button class=\"colab-df-convert\" onclick=\"convertToInteractive('df-fc47cb38-b3d3-4115-8242-4140ebb05e29')\"\n",
              "              title=\"Convert this dataframe to an interactive table.\"\n",
              "              style=\"display:none;\">\n",
              "        \n",
              "  <svg xmlns=\"http://www.w3.org/2000/svg\" height=\"24px\"viewBox=\"0 0 24 24\"\n",
              "       width=\"24px\">\n",
              "    <path d=\"M0 0h24v24H0V0z\" fill=\"none\"/>\n",
              "    <path d=\"M18.56 5.44l.94 2.06.94-2.06 2.06-.94-2.06-.94-.94-2.06-.94 2.06-2.06.94zm-11 1L8.5 8.5l.94-2.06 2.06-.94-2.06-.94L8.5 2.5l-.94 2.06-2.06.94zm10 10l.94 2.06.94-2.06 2.06-.94-2.06-.94-.94-2.06-.94 2.06-2.06.94z\"/><path d=\"M17.41 7.96l-1.37-1.37c-.4-.4-.92-.59-1.43-.59-.52 0-1.04.2-1.43.59L10.3 9.45l-7.72 7.72c-.78.78-.78 2.05 0 2.83L4 21.41c.39.39.9.59 1.41.59.51 0 1.02-.2 1.41-.59l7.78-7.78 2.81-2.81c.8-.78.8-2.07 0-2.86zM5.41 20L4 18.59l7.72-7.72 1.47 1.35L5.41 20z\"/>\n",
              "  </svg>\n",
              "      </button>\n",
              "      \n",
              "  <style>\n",
              "    .colab-df-container {\n",
              "      display:flex;\n",
              "      flex-wrap:wrap;\n",
              "      gap: 12px;\n",
              "    }\n",
              "\n",
              "    .colab-df-convert {\n",
              "      background-color: #E8F0FE;\n",
              "      border: none;\n",
              "      border-radius: 50%;\n",
              "      cursor: pointer;\n",
              "      display: none;\n",
              "      fill: #1967D2;\n",
              "      height: 32px;\n",
              "      padding: 0 0 0 0;\n",
              "      width: 32px;\n",
              "    }\n",
              "\n",
              "    .colab-df-convert:hover {\n",
              "      background-color: #E2EBFA;\n",
              "      box-shadow: 0px 1px 2px rgba(60, 64, 67, 0.3), 0px 1px 3px 1px rgba(60, 64, 67, 0.15);\n",
              "      fill: #174EA6;\n",
              "    }\n",
              "\n",
              "    [theme=dark] .colab-df-convert {\n",
              "      background-color: #3B4455;\n",
              "      fill: #D2E3FC;\n",
              "    }\n",
              "\n",
              "    [theme=dark] .colab-df-convert:hover {\n",
              "      background-color: #434B5C;\n",
              "      box-shadow: 0px 1px 3px 1px rgba(0, 0, 0, 0.15);\n",
              "      filter: drop-shadow(0px 1px 2px rgba(0, 0, 0, 0.3));\n",
              "      fill: #FFFFFF;\n",
              "    }\n",
              "  </style>\n",
              "\n",
              "      <script>\n",
              "        const buttonEl =\n",
              "          document.querySelector('#df-fc47cb38-b3d3-4115-8242-4140ebb05e29 button.colab-df-convert');\n",
              "        buttonEl.style.display =\n",
              "          google.colab.kernel.accessAllowed ? 'block' : 'none';\n",
              "\n",
              "        async function convertToInteractive(key) {\n",
              "          const element = document.querySelector('#df-fc47cb38-b3d3-4115-8242-4140ebb05e29');\n",
              "          const dataTable =\n",
              "            await google.colab.kernel.invokeFunction('convertToInteractive',\n",
              "                                                     [key], {});\n",
              "          if (!dataTable) return;\n",
              "\n",
              "          const docLinkHtml = 'Like what you see? Visit the ' +\n",
              "            '<a target=\"_blank\" href=https://colab.research.google.com/notebooks/data_table.ipynb>data table notebook</a>'\n",
              "            + ' to learn more about interactive tables.';\n",
              "          element.innerHTML = '';\n",
              "          dataTable['output_type'] = 'display_data';\n",
              "          await google.colab.output.renderOutput(dataTable, element);\n",
              "          const docLink = document.createElement('div');\n",
              "          docLink.innerHTML = docLinkHtml;\n",
              "          element.appendChild(docLink);\n",
              "        }\n",
              "      </script>\n",
              "    </div>\n",
              "  </div>\n",
              "  "
            ]
          },
          "metadata": {},
          "execution_count": 24
        }
      ]
    },
    {
      "cell_type": "code",
      "source": [
        "import matplotlib as plt\n",
        "import seaborn as sns\n",
        "ax=sns.countplot(x ='ira_nb1_d', data = df)\n",
        "ax.set_title('Nb1', fontsize=20)\n",
        "for p in ax.patches:\n",
        "    ax.annotate('{:.2f}'.format(p.get_height()), (p.get_x()+0.15, p.get_height()+1))"
      ],
      "metadata": {
        "colab": {
          "base_uri": "https://localhost:8080/",
          "height": 301
        },
        "id": "FtfEGh6CxVlk",
        "outputId": "fbcbd148-3f5c-489e-baa3-2510d8154b82"
      },
      "execution_count": null,
      "outputs": [
        {
          "output_type": "display_data",
          "data": {
            "text/plain": [
              "<Figure size 432x288 with 1 Axes>"
            ],
            "image/png": "[encoded data removed]"
          },
          "metadata": {
            "needs_background": "light"
          }
        }
      ]
    },
    {
      "cell_type": "code",
      "source": [
        "sns.countplot(x ='ira_mr1_d', data = df)"
      ],
      "metadata": {
        "colab": {
          "base_uri": "https://localhost:8080/",
          "height": 298
        },
        "id": "6qp3QemzzQSe",
        "outputId": "0c3cbbc0-1618-4ad0-b990-f5fb63cf09fa"
      },
      "execution_count": null,
      "outputs": [
        {
          "output_type": "execute_result",
          "data": {
            "text/plain": [
              "<matplotlib.axes._subplots.AxesSubplot at 0x7fbd03d02050>"
            ]
          },
          "metadata": {},
          "execution_count": 26
        },
        {
          "output_type": "display_data",
          "data": {
            "text/plain": [
              "<Figure size 432x288 with 1 Axes>"
            ],
            "image/png": "[encoded data removed]"
          },
          "metadata": {
            "needs_background": "light"
          }
        }
      ]
    },
    {
      "cell_type": "code",
      "source": [
        "ax = sns.countplot(x ='ira_nb3_d', data = df)\n",
        "ax.set_title('Nb3', fontsize=20)\n",
        "for p in ax.patches:\n",
        "    ax.annotate('{:.2f}'.format(p.get_height()), (p.get_x()+0.15, p.get_height()+1))"
      ],
      "metadata": {
        "colab": {
          "base_uri": "https://localhost:8080/",
          "height": 301
        },
        "id": "H0cNvcqy0vt7",
        "outputId": "5ecaa7de-5a5d-4e87-c932-c5d1a427727c"
      },
      "execution_count": null,
      "outputs": [
        {
          "output_type": "display_data",
          "data": {
            "text/plain": [
              "<Figure size 432x288 with 1 Axes>"
            ],
            "image/png": "[encoded data removed]"
          },
          "metadata": {
            "needs_background": "light"
          }
        }
      ]
    },
    {
      "cell_type": "code",
      "source": [
        "ax=sns.countplot(x ='ira_nb1_d', hue = \"ira_mr1_d\", data = df)\n",
        "ax.set_title('Nb1xMr1', fontsize=20)\n",
        "for p in ax.patches:\n",
        "    ax.annotate('{:.2f}'.format(p.get_height()), (p.get_x()+0.15, p.get_height()+1))"
      ],
      "metadata": {
        "colab": {
          "base_uri": "https://localhost:8080/",
          "height": 301
        },
        "id": "eNkP3gN601fB",
        "outputId": "4c804c27-f948-4127-89d8-a3a5d75f01f7"
      },
      "execution_count": null,
      "outputs": [
        {
          "output_type": "display_data",
          "data": {
            "text/plain": [
              "<Figure size 432x288 with 1 Axes>"
            ],
            "image/png": "[encoded data removed]"
          },
          "metadata": {
            "needs_background": "light"
          }
        }
      ]
    },
    {
      "cell_type": "code",
      "source": [
        "ax=sns.countplot(x ='ira_nb1_d', hue = \"resultado_final\", data = df)\n",
        "for p in ax.patches:\n",
        "    ax.annotate('{:.2f}'.format(p.get_height()), (p.get_x()+0.15, p.get_height()+1))"
      ],
      "metadata": {
        "colab": {
          "base_uri": "https://localhost:8080/",
          "height": 280
        },
        "id": "PlqAwVo-SMHJ",
        "outputId": "8700edf8-76df-4877-a775-4ae6c5aaafaf"
      },
      "execution_count": null,
      "outputs": [
        {
          "output_type": "display_data",
          "data": {
            "text/plain": [
              "<Figure size 432x288 with 1 Axes>"
            ],
            "image/png": "[encoded data removed]"
          },
          "metadata": {
            "needs_background": "light"
          }
        }
      ]
    },
    {
      "cell_type": "code",
      "source": [
        "import plotly.graph_objects as go\n",
        "df1 = df.groupby(['ira_nb1_d', 'ira_mr1_d'])['estudante'].count().reset_index()\n",
        "df1.columns = ['source', 'target', 'value']\n",
        "df2 = df.groupby(['ira_mr1_d', 'ira_nb3_d'])['estudante'].count().reset_index()\n",
        "df2.columns = ['source', 'target', 'value']\n",
        "df3 = df.groupby(['ira_nb3_d', 'resultado_final'])['estudante'].count().reset_index()\n",
        "df3.columns = ['source', 'target', 'value']\n",
        "links = pd.concat([df1, df2,df3], axis=0)\n",
        "links"
      ],
      "metadata": {
        "colab": {
          "base_uri": "https://localhost:8080/",
          "height": 1000
        },
        "id": "TpoWshsU1O2y",
        "outputId": "b1a8b872-9d80-4a06-d1b5-c979df31dc99"
      },
      "execution_count": null,
      "outputs": [
        {
          "output_type": "execute_result",
          "data": {
            "text/plain": [
              "   source     target  value\n",
              "0      1D         2D     33\n",
              "1      1D         2C      7\n",
              "2      1D         2B      1\n",
              "3      1D         2A      0\n",
              "4      1C         2D      9\n",
              "5      1C         2C     58\n",
              "6      1C         2B     72\n",
              "7      1C         2A      0\n",
              "8      1B         2D      0\n",
              "9      1B         2C     12\n",
              "10     1B         2B    726\n",
              "11     1B         2A     53\n",
              "12     1A         2D      0\n",
              "13     1A         2C      0\n",
              "14     1A         2B     13\n",
              "15     1A         2A    159\n",
              "0      2D         3D     40\n",
              "1      2D         3C      2\n",
              "2      2D         3B      0\n",
              "3      2D         3A      0\n",
              "4      2C         3D     11\n",
              "5      2C         3C     59\n",
              "6      2C         3B      7\n",
              "7      2C         3A      0\n",
              "8      2B         3D      0\n",
              "9      2B         3C     27\n",
              "10     2B         3B    758\n",
              "11     2B         3A     27\n",
              "12     2A         3D      0\n",
              "13     2A         3C      0\n",
              "14     2A         3B     37\n",
              "15     2A         3A    175\n",
              "0      3D   Aprovado      1\n",
              "1      3D  Reprovado     50\n",
              "2      3C   Aprovado     22\n",
              "3      3C  Reprovado     66\n",
              "4      3B   Aprovado    688\n",
              "5      3B  Reprovado    114\n",
              "6      3A   Aprovado    200\n",
              "7      3A  Reprovado      2"
            ],
            "text/html": [
              "\n",
              "  <div id=\"df-d192f5c3-dc0d-4bd7-acec-59fb9efb863d\">\n",
              "    <div class=\"colab-df-container\">\n",
              "      <div>\n",
              "<style scoped>\n",
              "    .dataframe tbody tr th:only-of-type {\n",
              "        vertical-align: middle;\n",
              "    }\n",
              "\n",
              "    .dataframe tbody tr th {\n",
              "        vertical-align: top;\n",
              "    }\n",
              "\n",
              "    .dataframe thead th {\n",
              "        text-align: right;\n",
              "    }\n",
              "</style>\n",
              "<table border=\"1\" class=\"dataframe\">\n",
              "  <thead>\n",
              "    <tr style=\"text-align: right;\">\n",
              "      <th></th>\n",
              "      <th>source</th>\n",
              "      <th>target</th>\n",
              "      <th>value</th>\n",
              "    </tr>\n",
              "  </thead>\n",
              "  <tbody>\n",
              "    <tr>\n",
              "      <th>0</th>\n",
              "      <td>1D</td>\n",
              "      <td>2D</td>\n",
              "      <td>33</td>\n",
              "    </tr>\n",
              "    <tr>\n",
              "      <th>1</th>\n",
              "      <td>1D</td>\n",
              "      <td>2C</td>\n",
              "      <td>7</td>\n",
              "    </tr>\n",
              "    <tr>\n",
              "      <th>2</th>\n",
              "      <td>1D</td>\n",
              "      <td>2B</td>\n",
              "      <td>1</td>\n",
              "    </tr>\n",
              "    <tr>\n",
              "      <th>3</th>\n",
              "      <td>1D</td>\n",
              "      <td>2A</td>\n",
              "      <td>0</td>\n",
              "    </tr>\n",
              "    <tr>\n",
              "      <th>4</th>\n",
              "      <td>1C</td>\n",
              "      <td>2D</td>\n",
              "      <td>9</td>\n",
              "    </tr>\n",
              "    <tr>\n",
              "      <th>5</th>\n",
              "      <td>1C</td>\n",
              "      <td>2C</td>\n",
              "      <td>58</td>\n",
              "    </tr>\n",
              "    <tr>\n",
              "      <th>6</th>\n",
              "      <td>1C</td>\n",
              "      <td>2B</td>\n",
              "      <td>72</td>\n",
              "    </tr>\n",
              "    <tr>\n",
              "      <th>7</th>\n",
              "      <td>1C</td>\n",
              "      <td>2A</td>\n",
              "      <td>0</td>\n",
              "    </tr>\n",
              "    <tr>\n",
              "      <th>8</th>\n",
              "      <td>1B</td>\n",
              "      <td>2D</td>\n",
              "      <td>0</td>\n",
              "    </tr>\n",
              "    <tr>\n",
              "      <th>9</th>\n",
              "      <td>1B</td>\n",
              "      <td>2C</td>\n",
              "      <td>12</td>\n",
              "    </tr>\n",
              "    <tr>\n",
              "      <th>10</th>\n",
              "      <td>1B</td>\n",
              "      <td>2B</td>\n",
              "      <td>726</td>\n",
              "    </tr>\n",
              "    <tr>\n",
              "      <th>11</th>\n",
              "      <td>1B</td>\n",
              "      <td>2A</td>\n",
              "      <td>53</td>\n",
              "    </tr>\n",
              "    <tr>\n",
              "      <th>12</th>\n",
              "      <td>1A</td>\n",
              "      <td>2D</td>\n",
              "      <td>0</td>\n",
              "    </tr>\n",
              "    <tr>\n",
              "      <th>13</th>\n",
              "      <td>1A</td>\n",
              "      <td>2C</td>\n",
              "      <td>0</td>\n",
              "    </tr>\n",
              "    <tr>\n",
              "      <th>14</th>\n",
              "      <td>1A</td>\n",
              "      <td>2B</td>\n",
              "      <td>13</td>\n",
              "    </tr>\n",
              "    <tr>\n",
              "      <th>15</th>\n",
              "      <td>1A</td>\n",
              "      <td>2A</td>\n",
              "      <td>159</td>\n",
              "    </tr>\n",
              "    <tr>\n",
              "      <th>0</th>\n",
              "      <td>2D</td>\n",
              "      <td>3D</td>\n",
              "      <td>40</td>\n",
              "    </tr>\n",
              "    <tr>\n",
              "      <th>1</th>\n",
              "      <td>2D</td>\n",
              "      <td>3C</td>\n",
              "      <td>2</td>\n",
              "    </tr>\n",
              "    <tr>\n",
              "      <th>2</th>\n",
              "      <td>2D</td>\n",
              "      <td>3B</td>\n",
              "      <td>0</td>\n",
              "    </tr>\n",
              "    <tr>\n",
              "      <th>3</th>\n",
              "      <td>2D</td>\n",
              "      <td>3A</td>\n",
              "      <td>0</td>\n",
              "    </tr>\n",
              "    <tr>\n",
              "      <th>4</th>\n",
              "      <td>2C</td>\n",
              "      <td>3D</td>\n",
              "      <td>11</td>\n",
              "    </tr>\n",
              "    <tr>\n",
              "      <th>5</th>\n",
              "      <td>2C</td>\n",
              "      <td>3C</td>\n",
              "      <td>59</td>\n",
              "    </tr>\n",
              "    <tr>\n",
              "      <th>6</th>\n",
              "      <td>2C</td>\n",
              "      <td>3B</td>\n",
              "      <td>7</td>\n",
              "    </tr>\n",
              "    <tr>\n",
              "      <th>7</th>\n",
              "      <td>2C</td>\n",
              "      <td>3A</td>\n",
              "      <td>0</td>\n",
              "    </tr>\n",
              "    <tr>\n",
              "      <th>8</th>\n",
              "      <td>2B</td>\n",
              "      <td>3D</td>\n",
              "      <td>0</td>\n",
              "    </tr>\n",
              "    <tr>\n",
              "      <th>9</th>\n",
              "      <td>2B</td>\n",
              "      <td>3C</td>\n",
              "      <td>27</td>\n",
              "    </tr>\n",
              "    <tr>\n",
              "      <th>10</th>\n",
              "      <td>2B</td>\n",
              "      <td>3B</td>\n",
              "      <td>758</td>\n",
              "    </tr>\n",
              "    <tr>\n",
              "      <th>11</th>\n",
              "      <td>2B</td>\n",
              "      <td>3A</td>\n",
              "      <td>27</td>\n",
              "    </tr>\n",
              "    <tr>\n",
              "      <th>12</th>\n",
              "      <td>2A</td>\n",
              "      <td>3D</td>\n",
              "      <td>0</td>\n",
              "    </tr>\n",
              "    <tr>\n",
              "      <th>13</th>\n",
              "      <td>2A</td>\n",
              "      <td>3C</td>\n",
              "      <td>0</td>\n",
              "    </tr>\n",
              "    <tr>\n",
              "      <th>14</th>\n",
              "      <td>2A</td>\n",
              "      <td>3B</td>\n",
              "      <td>37</td>\n",
              "    </tr>\n",
              "    <tr>\n",
              "      <th>15</th>\n",
              "      <td>2A</td>\n",
              "      <td>3A</td>\n",
              "      <td>175</td>\n",
              "    </tr>\n",
              "    <tr>\n",
              "      <th>0</th>\n",
              "      <td>3D</td>\n",
              "      <td>Aprovado</td>\n",
              "      <td>1</td>\n",
              "    </tr>\n",
              "    <tr>\n",
              "      <th>1</th>\n",
              "      <td>3D</td>\n",
              "      <td>Reprovado</td>\n",
              "      <td>50</td>\n",
              "    </tr>\n",
              "    <tr>\n",
              "      <th>2</th>\n",
              "      <td>3C</td>\n",
              "      <td>Aprovado</td>\n",
              "      <td>22</td>\n",
              "    </tr>\n",
              "    <tr>\n",
              "      <th>3</th>\n",
              "      <td>3C</td>\n",
              "      <td>Reprovado</td>\n",
              "      <td>66</td>\n",
              "    </tr>\n",
              "    <tr>\n",
              "      <th>4</th>\n",
              "      <td>3B</td>\n",
              "      <td>Aprovado</td>\n",
              "      <td>688</td>\n",
              "    </tr>\n",
              "    <tr>\n",
              "      <th>5</th>\n",
              "      <td>3B</td>\n",
              "      <td>Reprovado</td>\n",
              "      <td>114</td>\n",
              "    </tr>\n",
              "    <tr>\n",
              "      <th>6</th>\n",
              "      <td>3A</td>\n",
              "      <td>Aprovado</td>\n",
              "      <td>200</td>\n",
              "    </tr>\n",
              "    <tr>\n",
              "      <th>7</th>\n",
              "      <td>3A</td>\n",
              "      <td>Reprovado</td>\n",
              "      <td>2</td>\n",
              "    </tr>\n",
              "  </tbody>\n",
              "</table>\n",
              "</div>\n",
              "      <button class=\"colab-df-convert\" onclick=\"convertToInteractive('df-d192f5c3-dc0d-4bd7-acec-59fb9efb863d')\"\n",
              "              title=\"Convert this dataframe to an interactive table.\"\n",
              "              style=\"display:none;\">\n",
              "        \n",
              "  <svg xmlns=\"http://www.w3.org/2000/svg\" height=\"24px\"viewBox=\"0 0 24 24\"\n",
              "       width=\"24px\">\n",
              "    <path d=\"M0 0h24v24H0V0z\" fill=\"none\"/>\n",
              "    <path d=\"M18.56 5.44l.94 2.06.94-2.06 2.06-.94-2.06-.94-.94-2.06-.94 2.06-2.06.94zm-11 1L8.5 8.5l.94-2.06 2.06-.94-2.06-.94L8.5 2.5l-.94 2.06-2.06.94zm10 10l.94 2.06.94-2.06 2.06-.94-2.06-.94-.94-2.06-.94 2.06-2.06.94z\"/><path d=\"M17.41 7.96l-1.37-1.37c-.4-.4-.92-.59-1.43-.59-.52 0-1.04.2-1.43.59L10.3 9.45l-7.72 7.72c-.78.78-.78 2.05 0 2.83L4 21.41c.39.39.9.59 1.41.59.51 0 1.02-.2 1.41-.59l7.78-7.78 2.81-2.81c.8-.78.8-2.07 0-2.86zM5.41 20L4 18.59l7.72-7.72 1.47 1.35L5.41 20z\"/>\n",
              "  </svg>\n",
              "      </button>\n",
              "      \n",
              "  <style>\n",
              "    .colab-df-container {\n",
              "      display:flex;\n",
              "      flex-wrap:wrap;\n",
              "      gap: 12px;\n",
              "    }\n",
              "\n",
              "    .colab-df-convert {\n",
              "      background-color: #E8F0FE;\n",
              "      border: none;\n",
              "      border-radius: 50%;\n",
              "      cursor: pointer;\n",
              "      display: none;\n",
              "      fill: #1967D2;\n",
              "      height: 32px;\n",
              "      padding: 0 0 0 0;\n",
              "      width: 32px;\n",
              "    }\n",
              "\n",
              "    .colab-df-convert:hover {\n",
              "      background-color: #E2EBFA;\n",
              "      box-shadow: 0px 1px 2px rgba(60, 64, 67, 0.3), 0px 1px 3px 1px rgba(60, 64, 67, 0.15);\n",
              "      fill: #174EA6;\n",
              "    }\n",
              "\n",
              "    [theme=dark] .colab-df-convert {\n",
              "      background-color: #3B4455;\n",
              "      fill: #D2E3FC;\n",
              "    }\n",
              "\n",
              "    [theme=dark] .colab-df-convert:hover {\n",
              "      background-color: #434B5C;\n",
              "      box-shadow: 0px 1px 3px 1px rgba(0, 0, 0, 0.15);\n",
              "      filter: drop-shadow(0px 1px 2px rgba(0, 0, 0, 0.3));\n",
              "      fill: #FFFFFF;\n",
              "    }\n",
              "  </style>\n",
              "\n",
              "      <script>\n",
              "        const buttonEl =\n",
              "          document.querySelector('#df-d192f5c3-dc0d-4bd7-acec-59fb9efb863d button.colab-df-convert');\n",
              "        buttonEl.style.display =\n",
              "          google.colab.kernel.accessAllowed ? 'block' : 'none';\n",
              "\n",
              "        async function convertToInteractive(key) {\n",
              "          const element = document.querySelector('#df-d192f5c3-dc0d-4bd7-acec-59fb9efb863d');\n",
              "          const dataTable =\n",
              "            await google.colab.kernel.invokeFunction('convertToInteractive',\n",
              "                                                     [key], {});\n",
              "          if (!dataTable) return;\n",
              "\n",
              "          const docLinkHtml = 'Like what you see? Visit the ' +\n",
              "            '<a target=\"_blank\" href=https://colab.research.google.com/notebooks/data_table.ipynb>data table notebook</a>'\n",
              "            + ' to learn more about interactive tables.';\n",
              "          element.innerHTML = '';\n",
              "          dataTable['output_type'] = 'display_data';\n",
              "          await google.colab.output.renderOutput(dataTable, element);\n",
              "          const docLink = document.createElement('div');\n",
              "          docLink.innerHTML = docLinkHtml;\n",
              "          element.appendChild(docLink);\n",
              "        }\n",
              "      </script>\n",
              "    </div>\n",
              "  </div>\n",
              "  "
            ]
          },
          "metadata": {},
          "execution_count": 43
        }
      ]
    },
    {
      "cell_type": "code",
      "source": [
        "unique_source_target = list(pd.unique(links[['source', 'target']].values.ravel('K')))"
      ],
      "metadata": {
        "id": "WoUPDszuN1nf"
      },
      "execution_count": null,
      "outputs": []
    },
    {
      "cell_type": "code",
      "source": [
        "unique_source_target"
      ],
      "metadata": {
        "colab": {
          "base_uri": "https://localhost:8080/"
        },
        "id": "m7vWcXPxOYn2",
        "outputId": "8ff9ad0d-e530-40dd-f02b-0d1a240d97b5"
      },
      "execution_count": null,
      "outputs": [
        {
          "output_type": "execute_result",
          "data": {
            "text/plain": [
              "['1D',\n",
              " '1C',\n",
              " '1B',\n",
              " '1A',\n",
              " '2D',\n",
              " '2C',\n",
              " '2B',\n",
              " '2A',\n",
              " '3D',\n",
              " '3C',\n",
              " '3B',\n",
              " '3A',\n",
              " 'Aprovado',\n",
              " 'Reprovado']"
            ]
          },
          "metadata": {},
          "execution_count": 32
        }
      ]
    },
    {
      "cell_type": "code",
      "source": [
        "mapping_dict = {k: v for v, k in enumerate(unique_source_target)}"
      ],
      "metadata": {
        "id": "7zxHijvgOa0y"
      },
      "execution_count": null,
      "outputs": []
    },
    {
      "cell_type": "code",
      "source": [
        "mapping_dict"
      ],
      "metadata": {
        "colab": {
          "base_uri": "https://localhost:8080/"
        },
        "id": "nRCqU6g2OeRK",
        "outputId": "33798b9a-c3fb-4502-d6ac-8991c048dcf4"
      },
      "execution_count": null,
      "outputs": [
        {
          "output_type": "execute_result",
          "data": {
            "text/plain": [
              "{'1A': 3,\n",
              " '1B': 2,\n",
              " '1C': 1,\n",
              " '1D': 0,\n",
              " '2A': 7,\n",
              " '2B': 6,\n",
              " '2C': 5,\n",
              " '2D': 4,\n",
              " '3A': 11,\n",
              " '3B': 10,\n",
              " '3C': 9,\n",
              " '3D': 8,\n",
              " 'Aprovado': 12,\n",
              " 'Reprovado': 13}"
            ]
          },
          "metadata": {},
          "execution_count": 34
        }
      ]
    },
    {
      "cell_type": "code",
      "source": [
        "links['source'] = links['source'].map(mapping_dict)\n",
        "links['target'] = links['target'].map(mapping_dict)"
      ],
      "metadata": {
        "id": "GSjDzHcaOgHC"
      },
      "execution_count": null,
      "outputs": []
    },
    {
      "cell_type": "code",
      "source": [
        "links_dict = links.to_dict(orient='list')"
      ],
      "metadata": {
        "id": "HGrnWOKJOitC"
      },
      "execution_count": null,
      "outputs": []
    },
    {
      "cell_type": "code",
      "source": [
        "fig = go.Figure(data=[go.Sankey(\n",
        "    node = dict(\n",
        "      pad = 15,\n",
        "      thickness = 20,\n",
        "      line = dict(color = \"black\", width = 0.5),\n",
        "      label = unique_source_target,\n",
        "      color = \"blue\"\n",
        "    ),\n",
        "    link = dict(\n",
        "      source = links_dict[\"source\"],\n",
        "      target = links_dict[\"target\"],\n",
        "      value = links_dict[\"value\"]\n",
        "  ))])"
      ],
      "metadata": {
        "id": "GUuVnAmnOk5J"
      },
      "execution_count": null,
      "outputs": []
    },
    {
      "cell_type": "code",
      "source": [
        "fig.update_layout(title_text=\"Grade Sankey Diagram\", font_size=10)\n",
        "fig.show()"
      ],
      "metadata": {
        "colab": {
          "base_uri": "https://localhost:8080/",
          "height": 542
        },
        "id": "v0YstnO5Omz5",
        "outputId": "d777f5ff-a019-488d-9e24-14a3f8f330e3"
      },
      "execution_count": null,
      "outputs": [
        {
          "output_type": "display_data",
          "data": {
            "text/html": [
              "<html>\n",
              "<head><meta charset=\"utf-8\" /></head>\n",
              "<body>\n",
              "    <div>            <script src=\"https://cdnjs.cloudflare.com/ajax/libs/mathjax/2.7.5/MathJax.js?config=TeX-AMS-MML_SVG\"></script><script type=\"text/javascript\">if (window.MathJax) {MathJax.Hub.Config({SVG: {font: \"STIX-Web\"}});}</script>                <script type=\"text/javascript\">window.PlotlyConfig = {MathJaxConfig: 'local'};</script>\n",
              "        <script src=\"https://cdn.plot.ly/plotly-2.8.3.min.js\"></script>                <div id=\"d71d629a-1c84-4c51-b6e1-0cc7e8e19ee0\" class=\"plotly-graph-div\" style=\"height:525px; width:100%;\"></div>            <script type=\"text/javascript\">                                    window.PLOTLYENV=window.PLOTLYENV || {};                                    if (document.getElementById(\"d71d629a-1c84-4c51-b6e1-0cc7e8e19ee0\")) {                    Plotly.newPlot(                        \"d71d629a-1c84-4c51-b6e1-0cc7e8e19ee0\",                        [{\"link\":{\"source\":[0,0,0,0,1,1,1,1,2,2,2,2,3,3,3,3,4,4,4,4,5,5,5,5,6,6,6,6,7,7,7,7,8,8,9,9,10,10,11,11],\"target\":[4,5,6,7,4,5,6,7,4,5,6,7,4,5,6,7,8,9,10,11,8,9,10,11,8,9,10,11,8,9,10,11,12,13,12,13,12,13,12,13],\"value\":[33,7,1,0,9,58,72,0,0,12,726,53,0,0,13,159,40,2,0,0,11,59,7,0,0,27,758,27,0,0,37,175,1,50,22,66,688,114,200,2]},\"node\":{\"color\":\"blue\",\"label\":[\"1D\",\"1C\",\"1B\",\"1A\",\"2D\",\"2C\",\"2B\",\"2A\",\"3D\",\"3C\",\"3B\",\"3A\",\"Aprovado\",\"Reprovado\"],\"line\":{\"color\":\"black\",\"width\":0.5},\"pad\":15,\"thickness\":20},\"type\":\"sankey\"}],                        {\"template\":{\"data\":{\"bar\":[{\"error_x\":{\"color\":\"#2a3f5f\"},\"error_y\":{\"color\":\"#2a3f5f\"},\"marker\":{\"line\":{\"color\":\"#E5ECF6\",\"width\":0.5},\"pattern\":{\"fillmode\":\"overlay\",\"size\":10,\"solidity\":0.2}},\"type\":\"bar\"}],\"barpolar\":[{\"marker\":{\"line\":{\"color\":\"#E5ECF6\",\"width\":0.5},\"pattern\":{\"fillmode\":\"overlay\",\"size\":10,\"solidity\":0.2}},\"type\":\"barpolar\"}],\"carpet\":[{\"aaxis\":{\"endlinecolor\":\"#2a3f5f\",\"gridcolor\":\"white\",\"linecolor\":\"white\",\"minorgridcolor\":\"white\",\"startlinecolor\":\"#2a3f5f\"},\"baxis\":{\"endlinecolor\":\"#2a3f5f\",\"gridcolor\":\"white\",\"linecolor\":\"white\",\"minorgridcolor\":\"white\",\"startlinecolor\":\"#2a3f5f\"},\"type\":\"carpet\"}],\"choropleth\":[{\"colorbar\":{\"outlinewidth\":0,\"ticks\":\"\"},\"type\":\"choropleth\"}],\"contour\":[{\"colorbar\":{\"outlinewidth\":0,\"ticks\":\"\"},\"colorscale\":[[0.0,\"#0d0887\"],[0.1111111111111111,\"#46039f\"],[0.2222222222222222,\"#7201a8\"],[0.3333333333333333,\"#9c179e\"],[0.4444444444444444,\"#bd3786\"],[0.5555555555555556,\"#d8576b\"],[0.6666666666666666,\"#ed7953\"],[0.7777777777777778,\"#fb9f3a\"],[0.8888888888888888,\"#fdca26\"],[1.0,\"#f0f921\"]],\"type\":\"contour\"}],\"contourcarpet\":[{\"colorbar\":{\"outlinewidth\":0,\"ticks\":\"\"},\"type\":\"contourcarpet\"}],\"heatmap\":[{\"colorbar\":{\"outlinewidth\":0,\"ticks\":\"\"},\"colorscale\":[[0.0,\"#0d0887\"],[0.1111111111111111,\"#46039f\"],[0.2222222222222222,\"#7201a8\"],[0.3333333333333333,\"#9c179e\"],[0.4444444444444444,\"#bd3786\"],[0.5555555555555556,\"#d8576b\"],[0.6666666666666666,\"#ed7953\"],[0.7777777777777778,\"#fb9f3a\"],[0.8888888888888888,\"#fdca26\"],[1.0,\"#f0f921\"]],\"type\":\"heatmap\"}],\"heatmapgl\":[{\"colorbar\":{\"outlinewidth\":0,\"ticks\":\"\"},\"colorscale\":[[0.0,\"#0d0887\"],[0.1111111111111111,\"#46039f\"],[0.2222222222222222,\"#7201a8\"],[0.3333333333333333,\"#9c179e\"],[0.4444444444444444,\"#bd3786\"],[0.5555555555555556,\"#d8576b\"],[0.6666666666666666,\"#ed7953\"],[0.7777777777777778,\"#fb9f3a\"],[0.8888888888888888,\"#fdca26\"],[1.0,\"#f0f921\"]],\"type\":\"heatmapgl\"}],\"histogram\":[{\"marker\":{\"pattern\":{\"fillmode\":\"overlay\",\"size\":10,\"solidity\":0.2}},\"type\":\"histogram\"}],\"histogram2d\":[{\"colorbar\":{\"outlinewidth\":0,\"ticks\":\"\"},\"colorscale\":[[0.0,\"#0d0887\"],[0.1111111111111111,\"#46039f\"],[0.2222222222222222,\"#7201a8\"],[0.3333333333333333,\"#9c179e\"],[0.4444444444444444,\"#bd3786\"],[0.5555555555555556,\"#d8576b\"],[0.6666666666666666,\"#ed7953\"],[0.7777777777777778,\"#fb9f3a\"],[0.8888888888888888,\"#fdca26\"],[1.0,\"#f0f921\"]],\"type\":\"histogram2d\"}],\"histogram2dcontour\":[{\"colorbar\":{\"outlinewidth\":0,\"ticks\":\"\"},\"colorscale\":[[0.0,\"#0d0887\"],[0.1111111111111111,\"#46039f\"],[0.2222222222222222,\"#7201a8\"],[0.3333333333333333,\"#9c179e\"],[0.4444444444444444,\"#bd3786\"],[0.5555555555555556,\"#d8576b\"],[0.6666666666666666,\"#ed7953\"],[0.7777777777777778,\"#fb9f3a\"],[0.8888888888888888,\"#fdca26\"],[1.0,\"#f0f921\"]],\"type\":\"histogram2dcontour\"}],\"mesh3d\":[{\"colorbar\":{\"outlinewidth\":0,\"ticks\":\"\"},\"type\":\"mesh3d\"}],\"parcoords\":[{\"line\":{\"colorbar\":{\"outlinewidth\":0,\"ticks\":\"\"}},\"type\":\"parcoords\"}],\"pie\":[{\"automargin\":true,\"type\":\"pie\"}],\"scatter\":[{\"marker\":{\"colorbar\":{\"outlinewidth\":0,\"ticks\":\"\"}},\"type\":\"scatter\"}],\"scatter3d\":[{\"line\":{\"colorbar\":{\"outlinewidth\":0,\"ticks\":\"\"}},\"marker\":{\"colorbar\":{\"outlinewidth\":0,\"ticks\":\"\"}},\"type\":\"scatter3d\"}],\"scattercarpet\":[{\"marker\":{\"colorbar\":{\"outlinewidth\":0,\"ticks\":\"\"}},\"type\":\"scattercarpet\"}],\"scattergeo\":[{\"marker\":{\"colorbar\":{\"outlinewidth\":0,\"ticks\":\"\"}},\"type\":\"scattergeo\"}],\"scattergl\":[{\"marker\":{\"colorbar\":{\"outlinewidth\":0,\"ticks\":\"\"}},\"type\":\"scattergl\"}],\"scattermapbox\":[{\"marker\":{\"colorbar\":{\"outlinewidth\":0,\"ticks\":\"\"}},\"type\":\"scattermapbox\"}],\"scatterpolar\":[{\"marker\":{\"colorbar\":{\"outlinewidth\":0,\"ticks\":\"\"}},\"type\":\"scatterpolar\"}],\"scatterpolargl\":[{\"marker\":{\"colorbar\":{\"outlinewidth\":0,\"ticks\":\"\"}},\"type\":\"scatterpolargl\"}],\"scatterternary\":[{\"marker\":{\"colorbar\":{\"outlinewidth\":0,\"ticks\":\"\"}},\"type\":\"scatterternary\"}],\"surface\":[{\"colorbar\":{\"outlinewidth\":0,\"ticks\":\"\"},\"colorscale\":[[0.0,\"#0d0887\"],[0.1111111111111111,\"#46039f\"],[0.2222222222222222,\"#7201a8\"],[0.3333333333333333,\"#9c179e\"],[0.4444444444444444,\"#bd3786\"],[0.5555555555555556,\"#d8576b\"],[0.6666666666666666,\"#ed7953\"],[0.7777777777777778,\"#fb9f3a\"],[0.8888888888888888,\"#fdca26\"],[1.0,\"#f0f921\"]],\"type\":\"surface\"}],\"table\":[{\"cells\":{\"fill\":{\"color\":\"#EBF0F8\"},\"line\":{\"color\":\"white\"}},\"header\":{\"fill\":{\"color\":\"#C8D4E3\"},\"line\":{\"color\":\"white\"}},\"type\":\"table\"}]},\"layout\":{\"annotationdefaults\":{\"arrowcolor\":\"#2a3f5f\",\"arrowhead\":0,\"arrowwidth\":1},\"autotypenumbers\":\"strict\",\"coloraxis\":{\"colorbar\":{\"outlinewidth\":0,\"ticks\":\"\"}},\"colorscale\":{\"diverging\":[[0,\"#8e0152\"],[0.1,\"#c51b7d\"],[0.2,\"#de77ae\"],[0.3,\"#f1b6da\"],[0.4,\"#fde0ef\"],[0.5,\"#f7f7f7\"],[0.6,\"#e6f5d0\"],[0.7,\"#b8e186\"],[0.8,\"#7fbc41\"],[0.9,\"#4d9221\"],[1,\"#276419\"]],\"sequential\":[[0.0,\"#0d0887\"],[0.1111111111111111,\"#46039f\"],[0.2222222222222222,\"#7201a8\"],[0.3333333333333333,\"#9c179e\"],[0.4444444444444444,\"#bd3786\"],[0.5555555555555556,\"#d8576b\"],[0.6666666666666666,\"#ed7953\"],[0.7777777777777778,\"#fb9f3a\"],[0.8888888888888888,\"#fdca26\"],[1.0,\"#f0f921\"]],\"sequentialminus\":[[0.0,\"#0d0887\"],[0.1111111111111111,\"#46039f\"],[0.2222222222222222,\"#7201a8\"],[0.3333333333333333,\"#9c179e\"],[0.4444444444444444,\"#bd3786\"],[0.5555555555555556,\"#d8576b\"],[0.6666666666666666,\"#ed7953\"],[0.7777777777777778,\"#fb9f3a\"],[0.8888888888888888,\"#fdca26\"],[1.0,\"#f0f921\"]]},\"colorway\":[\"#636efa\",\"#EF553B\",\"#00cc96\",\"#ab63fa\",\"#FFA15A\",\"#19d3f3\",\"#FF6692\",\"#B6E880\",\"#FF97FF\",\"#FECB52\"],\"font\":{\"color\":\"#2a3f5f\"},\"geo\":{\"bgcolor\":\"white\",\"lakecolor\":\"white\",\"landcolor\":\"#E5ECF6\",\"showlakes\":true,\"showland\":true,\"subunitcolor\":\"white\"},\"hoverlabel\":{\"align\":\"left\"},\"hovermode\":\"closest\",\"mapbox\":{\"style\":\"light\"},\"paper_bgcolor\":\"white\",\"plot_bgcolor\":\"#E5ECF6\",\"polar\":{\"angularaxis\":{\"gridcolor\":\"white\",\"linecolor\":\"white\",\"ticks\":\"\"},\"bgcolor\":\"#E5ECF6\",\"radialaxis\":{\"gridcolor\":\"white\",\"linecolor\":\"white\",\"ticks\":\"\"}},\"scene\":{\"xaxis\":{\"backgroundcolor\":\"#E5ECF6\",\"gridcolor\":\"white\",\"gridwidth\":2,\"linecolor\":\"white\",\"showbackground\":true,\"ticks\":\"\",\"zerolinecolor\":\"white\"},\"yaxis\":{\"backgroundcolor\":\"#E5ECF6\",\"gridcolor\":\"white\",\"gridwidth\":2,\"linecolor\":\"white\",\"showbackground\":true,\"ticks\":\"\",\"zerolinecolor\":\"white\"},\"zaxis\":{\"backgroundcolor\":\"#E5ECF6\",\"gridcolor\":\"white\",\"gridwidth\":2,\"linecolor\":\"white\",\"showbackground\":true,\"ticks\":\"\",\"zerolinecolor\":\"white\"}},\"shapedefaults\":{\"line\":{\"color\":\"#2a3f5f\"}},\"ternary\":{\"aaxis\":{\"gridcolor\":\"white\",\"linecolor\":\"white\",\"ticks\":\"\"},\"baxis\":{\"gridcolor\":\"white\",\"linecolor\":\"white\",\"ticks\":\"\"},\"bgcolor\":\"#E5ECF6\",\"caxis\":{\"gridcolor\":\"white\",\"linecolor\":\"white\",\"ticks\":\"\"}},\"title\":{\"x\":0.05},\"xaxis\":{\"automargin\":true,\"gridcolor\":\"white\",\"linecolor\":\"white\",\"ticks\":\"\",\"title\":{\"standoff\":15},\"zerolinecolor\":\"white\",\"zerolinewidth\":2},\"yaxis\":{\"automargin\":true,\"gridcolor\":\"white\",\"linecolor\":\"white\",\"ticks\":\"\",\"title\":{\"standoff\":15},\"zerolinecolor\":\"white\",\"zerolinewidth\":2}}},\"title\":{\"text\":\"Grade Sankey Diagram\"},\"font\":{\"size\":10}},                        {\"responsive\": true}                    ).then(function(){\n",
              "                            \n",
              "var gd = document.getElementById('d71d629a-1c84-4c51-b6e1-0cc7e8e19ee0');\n",
              "var x = new MutationObserver(function (mutations, observer) {{\n",
              "        var display = window.getComputedStyle(gd).display;\n",
              "        if (!display || display === 'none') {{\n",
              "            console.log([gd, 'removed!']);\n",
              "            Plotly.purge(gd);\n",
              "            observer.disconnect();\n",
              "        }}\n",
              "}});\n",
              "\n",
              "// Listen for the removal of the full notebook cells\n",
              "var notebookContainer = gd.closest('#notebook-container');\n",
              "if (notebookContainer) {{\n",
              "    x.observe(notebookContainer, {childList: true});\n",
              "}}\n",
              "\n",
              "// Listen for the clearing of the current output cell\n",
              "var outputEl = gd.closest('.output');\n",
              "if (outputEl) {{\n",
              "    x.observe(outputEl, {childList: true});\n",
              "}}\n",
              "\n",
              "                        })                };                            </script>        </div>\n",
              "</body>\n",
              "</html>"
            ]
          },
          "metadata": {}
        }
      ]
    },
    {
      "cell_type": "code",
      "source": [
        "from google.colab import files\n",
        "\n",
        "df.to_csv('output.csv', encoding = 'utf-8-sig') \n",
        "files.download('output.csv')"
      ],
      "metadata": {
        "colab": {
          "base_uri": "https://localhost:8080/",
          "height": 17
        },
        "id": "9UmTaQZxOo3J",
        "outputId": "fd259efa-7357-4e83-d7cb-655a4b476897"
      },
      "execution_count": null,
      "outputs": [
        {
          "output_type": "display_data",
          "data": {
            "text/plain": [
              "<IPython.core.display.Javascript object>"
            ],
            "application/javascript": [
              "\n",
              "    async function download(id, filename, size) {\n",
              "      if (!google.colab.kernel.accessAllowed) {\n",
              "        return;\n",
              "      }\n",
              "      const div = document.createElement('div');\n",
              "      const label = document.createElement('label');\n",
              "      label.textContent = `Downloading \"${filename}\": `;\n",
              "      div.appendChild(label);\n",
              "      const progress = document.createElement('progress');\n",
              "      progress.max = size;\n",
              "      div.appendChild(progress);\n",
              "      document.body.appendChild(div);\n",
              "\n",
              "      const buffers = [];\n",
              "      let downloaded = 0;\n",
              "\n",
              "      const channel = await google.colab.kernel.comms.open(id);\n",
              "      // Send a message to notify the kernel that we're ready.\n",
              "      channel.send({})\n",
              "\n",
              "      for await (const message of channel.messages) {\n",
              "        // Send a message to notify the kernel that we're ready.\n",
              "        channel.send({})\n",
              "        if (message.buffers) {\n",
              "          for (const buffer of message.buffers) {\n",
              "            buffers.push(buffer);\n",
              "            downloaded += buffer.byteLength;\n",
              "            progress.value = downloaded;\n",
              "          }\n",
              "        }\n",
              "      }\n",
              "      const blob = new Blob(buffers, {type: 'application/binary'});\n",
              "      const a = document.createElement('a');\n",
              "      a.href = window.URL.createObjectURL(blob);\n",
              "      a.download = filename;\n",
              "      div.appendChild(a);\n",
              "      a.click();\n",
              "      div.remove();\n",
              "    }\n",
              "  "
            ]
          },
          "metadata": {}
        },
        {
          "output_type": "display_data",
          "data": {
            "text/plain": [
              "<IPython.core.display.Javascript object>"
            ],
            "application/javascript": [
              "download(\"download_adca0522-6492-4f0e-bac6-4db86bb80a30\", \"output.csv\", 115801)"
            ]
          },
          "metadata": {}
        }
      ]
    },
    {
      "cell_type": "code",
      "source": [
        "import matplotlib.pyplot as plt\n",
        "import numpy as np\n",
        "a_val,b_val,c_val,d_val = [],[],[],[]\n",
        "# initial state\n",
        "init_state = np.array([172, 791, 139, 41])\n",
        "# transition matrix\n",
        "a = np.array([[ 0.924, 0.076 ,0 , 0], [ 0.067, 0.918, 0.015, 0], [ 0, 0.518 ,0.417, 0.065], [0, 0.024, 0.171, 0.805]])\n",
        "for x in range(4):\n",
        "    a_val.append(init_state[0])\n",
        "    b_val.append(init_state[1])\n",
        "    c_val.append(init_state[2])\n",
        "    d_val.append(init_state[3])\n",
        "    b = init_state\n",
        "    init_state = a.dot(b)\n",
        "# plotting\n",
        "plt.figure(figsize=(11,8))\n",
        "plt.plot( [x for x in range(4)], a_val, marker='o', markerfacecolor='blue', markersize=12, color='skyblue', linewidth=4,label='A')\n",
        "plt.plot( [x for x in range(4)], b_val, marker='o', markerfacecolor='red', markersize=12, color='pink', linewidth=4,label='B')\n",
        "plt.plot( [x for x in range(4)], c_val, marker='o', markerfacecolor='orange', markersize=12, color='yellow', linewidth=4,label='C')\n",
        "plt.plot( [x for x in range(4)], d_val, marker='o', markerfacecolor='black', markersize=12, color='green', linewidth=4,label='D')\n",
        "plt.legend(loc='best')\n",
        "plt.xlabel('Bimestres')\n",
        "plt.ylabel('Number of students')"
      ],
      "metadata": {
        "colab": {
          "base_uri": "https://localhost:8080/",
          "height": 515
        },
        "id": "F6cYJgcsTlT8",
        "outputId": "7194eddd-296c-4f73-ec25-b6c23df05cbe"
      },
      "execution_count": null,
      "outputs": [
        {
          "output_type": "execute_result",
          "data": {
            "text/plain": [
              "Text(0, 0.5, 'Number of students')"
            ]
          },
          "metadata": {},
          "execution_count": 40
        },
        {
          "output_type": "display_data",
          "data": {
            "text/plain": [
              "<Figure size 792x576 with 1 Axes>"
            ],
            "image/png": "[encoded data removed]"
          },
          "metadata": {
            "needs_background": "light"
          }
        }
      ]
    },
    {
      "cell_type": "code",
      "source": [
        "import matplotlib.pyplot as plt\n",
        "import numpy as np\n",
        "a_val,b_val,c_val,d_val = [],[],[],[]\n",
        "# initial state\n",
        "init_state = np.array([243, 900, 0, 0])\n",
        "# transition matrix\n",
        "a = np.array([[ 0.924, 0.076 ,0 , 0], [ 0.067, 0.918, 0.015, 0], [ 0, 0.518 ,0.417, 0.065], [0, 0.024, 0.171, 0.805]])\n",
        "for x in range(4):\n",
        "    a_val.append(init_state[0])\n",
        "    b_val.append(init_state[1])\n",
        "    c_val.append(init_state[2])\n",
        "    d_val.append(init_state[3])\n",
        "    b = init_state\n",
        "    init_state = a.dot(b)\n",
        "# plotting\n",
        "plt.figure(figsize=(11,8))\n",
        "plt.plot( [x for x in range(4)], a_val, marker='o', markerfacecolor='blue', markersize=12, color='skyblue', linewidth=4,label='A')\n",
        "plt.plot( [x for x in range(4)], b_val, marker='o', markerfacecolor='red', markersize=12, color='pink', linewidth=4,label='B')\n",
        "plt.plot( [x for x in range(4)], c_val, marker='o', markerfacecolor='orange', markersize=12, color='yellow', linewidth=4,label='C')\n",
        "plt.plot( [x for x in range(4)], d_val, marker='o', markerfacecolor='black', markersize=12, color='green', linewidth=4,label='D')\n",
        "plt.legend(loc='best')\n",
        "plt.xlabel('Bimestres')\n",
        "plt.ylabel('Number of students')"
      ],
      "metadata": {
        "colab": {
          "base_uri": "https://localhost:8080/",
          "height": 515
        },
        "id": "tPh-pdDudSrv",
        "outputId": "d791d183-95d9-4324-b1d6-1c07b4d7315b"
      },
      "execution_count": null,
      "outputs": [
        {
          "output_type": "execute_result",
          "data": {
            "text/plain": [
              "Text(0, 0.5, 'Number of students')"
            ]
          },
          "metadata": {},
          "execution_count": 41
        },
        {
          "output_type": "display_data",
          "data": {
            "text/plain": [
              "<Figure size 792x576 with 1 Axes>"
            ],
            "image/png": "[encoded data removed]"
          },
          "metadata": {
            "needs_background": "light"
          }
        }
      ]
    },
    {
      "cell_type": "code",
      "source": [
        "ax=sns.countplot(x ='ira_mr1_d', hue = \"ira_nb3_d\", data = df)\n",
        "ax.set_title('Nb1xMr1', fontsize=20)\n",
        "for p in ax.patches:\n",
        "    ax.annotate('{:.2f}'.format(p.get_height()), (p.get_x()+0.15, p.get_height()+1))"
      ],
      "metadata": {
        "id": "u35ZHZ0uhrAI",
        "colab": {
          "base_uri": "https://localhost:8080/",
          "height": 301
        },
        "outputId": "a9faf713-8eb7-43cf-e6bc-29cdad5845fe"
      },
      "execution_count": null,
      "outputs": [
        {
          "output_type": "display_data",
          "data": {
            "text/plain": [
              "<Figure size 432x288 with 1 Axes>"
            ],
            "image/png": "[encoded data removed]"
          },
          "metadata": {
            "needs_background": "light"
          }
        }
      ]
    }
  ]
}