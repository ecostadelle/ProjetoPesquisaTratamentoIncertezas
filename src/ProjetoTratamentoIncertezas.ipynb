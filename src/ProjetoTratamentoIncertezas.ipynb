{
  "nbformat": 4,
  "nbformat_minor": 0,
  "metadata": {
    "colab": {
      "name": "ProjetoTratamentoIncertezas.ipynb",
      "provenance": [],
      "authorship_tag": "ABX9TyPVYKwhUYg+gkCN2fSi9u9s",
      "include_colab_link": true
    },
    "kernelspec": {
      "name": "python3",
      "display_name": "Python 3"
    },
    "language_info": {
      "name": "python"
    }
  },
  "cells": [
    {
      "cell_type": "markdown",
      "metadata": {
        "id": "view-in-github",
        "colab_type": "text"
      },
      "source": [
        "<a href=\"https://colab.research.google.com/github/ecostadelle/ProjetoPesquisaTratamentoIncertezas/blob/main/src/ProjetoTratamentoIncertezas.ipynb\" target=\"_parent\"><img src=\"https://colab.research.google.com/assets/colab-badge.svg\" alt=\"Open In Colab\"/></a>"
      ]
    },
    {
      "cell_type": "code",
      "execution_count": 1,
      "metadata": {
        "id": "Zs7FqXn5Zpsv"
      },
      "outputs": [],
      "source": [
        "import pandas as pd\n",
        "import numpy as np\n",
        "\n",
        "github = 'https://raw.githubusercontent.com/ecostadelle/ProjetoPesquisaTratamentoIncertezas/main/db/transforma.csv'\n",
        "\n",
        "df = pd.read_csv(github, sep = ';',decimal=\",\")"
      ]
    },
    {
      "cell_type": "code",
      "source": [
        "estTemp = df[(df['ano']>2013) & (df['ano']<2019)  & (df['periodo']==1)].estudante.unique()\n",
        "est2013 = df[(df['ano']==2013) & (df['periodo']==1)].estudante.unique()\n",
        "\n",
        "# Estudantes concluidos sem nota de 3º ano\n",
        "estranhos = np.array(['538F795E', '1EDE1259', '435A861E', '6B70CA24'])\n",
        "\n",
        "excessoes = np.concatenate((est2013,estranhos), axis=None)\n",
        "\n",
        "Estudantes = []\n",
        "for e in estTemp:\n",
        "  if e not in excessoes:\n",
        "    Estudantes.append(e)\n",
        "len(Estudantes)"
      ],
      "metadata": {
        "colab": {
          "base_uri": "https://localhost:8080/"
        },
        "id": "rJithL5zsxYi",
        "outputId": "b709ff96-97df-4d49-d88c-7842c385e213"
      },
      "execution_count": 2,
      "outputs": [
        {
          "output_type": "execute_result",
          "data": {
            "text/plain": [
              "245"
            ]
          },
          "metadata": {},
          "execution_count": 2
        }
      ]
    },
    {
      "cell_type": "code",
      "source": [
        "df.columns"
      ],
      "metadata": {
        "colab": {
          "base_uri": "https://localhost:8080/"
        },
        "id": "-JPpbqMKtsQw",
        "outputId": "79177f21-5061-4a77-d491-8a29222c1ddf"
      },
      "execution_count": 3,
      "outputs": [
        {
          "output_type": "execute_result",
          "data": {
            "text/plain": [
              "Index(['ano', 'periodo', 'estudante', 'ira_nb1', 'ira_mr1', 'ira_nb3',\n",
              "       'rec_s1', 'rec_s2', 'qtd_disciplinas', 'ap', 'ac', 'rt', 'rf',\n",
              "       'resultado_final', 'situacao_atual', 'grupo'],\n",
              "      dtype='object')"
            ]
          },
          "metadata": {},
          "execution_count": 3
        }
      ]
    },
    {
      "cell_type": "code",
      "source": [
        "df[df['estudante']=='6B81CDD5']"
      ],
      "metadata": {
        "colab": {
          "base_uri": "https://localhost:8080/",
          "height": 308
        },
        "id": "ENnWpbzQiv7O",
        "outputId": "3306cb4b-0d80-4088-be59-55226be50798"
      },
      "execution_count": null,
      "outputs": [
        {
          "output_type": "execute_result",
          "data": {
            "text/plain": [
              "      ano  periodo estudante  ira_nb1  ira_mr1  ira_nb3  rec_s1  rec_s2  \\\n",
              "264  2014        1  6B81CDD5    50.73    54.47    52.47    10.0    10.0   \n",
              "374  2015        1  6B81CDD5    49.44    54.00    56.90    12.0     4.0   \n",
              "489  2016        2  6B81CDD5    56.78    64.83    63.81     7.0     8.0   \n",
              "556  2017        3  6B81CDD5    62.82    62.53    59.75     6.0    10.0   \n",
              "\n",
              "     qtd_disciplinas    ap   ac   rt   rf resultado_final  \\\n",
              "264               15   9.0  0.0  6.0  0.0       Reprovado   \n",
              "374               16  14.0  2.0  0.0  0.0        Aprovado   \n",
              "489               18  17.0  1.0  0.0  0.0        Aprovado   \n",
              "556               17  14.0  0.0  3.0  0.0       Reprovado   \n",
              "\n",
              "          situacao_atual  grupo  \n",
              "264  Transferido Externo   -1.0  \n",
              "374  Transferido Externo    0.0  \n",
              "489  Transferido Externo    0.0  \n",
              "556  Transferido Externo   -1.0  "
            ],
            "text/html": [
              "\n",
              "  <div id=\"df-107443f4-cc92-498a-983c-9596dc97dbbb\">\n",
              "    <div class=\"colab-df-container\">\n",
              "      <div>\n",
              "<style scoped>\n",
              "    .dataframe tbody tr th:only-of-type {\n",
              "        vertical-align: middle;\n",
              "    }\n",
              "\n",
              "    .dataframe tbody tr th {\n",
              "        vertical-align: top;\n",
              "    }\n",
              "\n",
              "    .dataframe thead th {\n",
              "        text-align: right;\n",
              "    }\n",
              "</style>\n",
              "<table border=\"1\" class=\"dataframe\">\n",
              "  <thead>\n",
              "    <tr style=\"text-align: right;\">\n",
              "      <th></th>\n",
              "      <th>ano</th>\n",
              "      <th>periodo</th>\n",
              "      <th>estudante</th>\n",
              "      <th>ira_nb1</th>\n",
              "      <th>ira_mr1</th>\n",
              "      <th>ira_nb3</th>\n",
              "      <th>rec_s1</th>\n",
              "      <th>rec_s2</th>\n",
              "      <th>qtd_disciplinas</th>\n",
              "      <th>ap</th>\n",
              "      <th>ac</th>\n",
              "      <th>rt</th>\n",
              "      <th>rf</th>\n",
              "      <th>resultado_final</th>\n",
              "      <th>situacao_atual</th>\n",
              "      <th>grupo</th>\n",
              "    </tr>\n",
              "  </thead>\n",
              "  <tbody>\n",
              "    <tr>\n",
              "      <th>264</th>\n",
              "      <td>2014</td>\n",
              "      <td>1</td>\n",
              "      <td>6B81CDD5</td>\n",
              "      <td>50.73</td>\n",
              "      <td>54.47</td>\n",
              "      <td>52.47</td>\n",
              "      <td>10.0</td>\n",
              "      <td>10.0</td>\n",
              "      <td>15</td>\n",
              "      <td>9.0</td>\n",
              "      <td>0.0</td>\n",
              "      <td>6.0</td>\n",
              "      <td>0.0</td>\n",
              "      <td>Reprovado</td>\n",
              "      <td>Transferido Externo</td>\n",
              "      <td>-1.0</td>\n",
              "    </tr>\n",
              "    <tr>\n",
              "      <th>374</th>\n",
              "      <td>2015</td>\n",
              "      <td>1</td>\n",
              "      <td>6B81CDD5</td>\n",
              "      <td>49.44</td>\n",
              "      <td>54.00</td>\n",
              "      <td>56.90</td>\n",
              "      <td>12.0</td>\n",
              "      <td>4.0</td>\n",
              "      <td>16</td>\n",
              "      <td>14.0</td>\n",
              "      <td>2.0</td>\n",
              "      <td>0.0</td>\n",
              "      <td>0.0</td>\n",
              "      <td>Aprovado</td>\n",
              "      <td>Transferido Externo</td>\n",
              "      <td>0.0</td>\n",
              "    </tr>\n",
              "    <tr>\n",
              "      <th>489</th>\n",
              "      <td>2016</td>\n",
              "      <td>2</td>\n",
              "      <td>6B81CDD5</td>\n",
              "      <td>56.78</td>\n",
              "      <td>64.83</td>\n",
              "      <td>63.81</td>\n",
              "      <td>7.0</td>\n",
              "      <td>8.0</td>\n",
              "      <td>18</td>\n",
              "      <td>17.0</td>\n",
              "      <td>1.0</td>\n",
              "      <td>0.0</td>\n",
              "      <td>0.0</td>\n",
              "      <td>Aprovado</td>\n",
              "      <td>Transferido Externo</td>\n",
              "      <td>0.0</td>\n",
              "    </tr>\n",
              "    <tr>\n",
              "      <th>556</th>\n",
              "      <td>2017</td>\n",
              "      <td>3</td>\n",
              "      <td>6B81CDD5</td>\n",
              "      <td>62.82</td>\n",
              "      <td>62.53</td>\n",
              "      <td>59.75</td>\n",
              "      <td>6.0</td>\n",
              "      <td>10.0</td>\n",
              "      <td>17</td>\n",
              "      <td>14.0</td>\n",
              "      <td>0.0</td>\n",
              "      <td>3.0</td>\n",
              "      <td>0.0</td>\n",
              "      <td>Reprovado</td>\n",
              "      <td>Transferido Externo</td>\n",
              "      <td>-1.0</td>\n",
              "    </tr>\n",
              "  </tbody>\n",
              "</table>\n",
              "</div>\n",
              "      <button class=\"colab-df-convert\" onclick=\"convertToInteractive('df-107443f4-cc92-498a-983c-9596dc97dbbb')\"\n",
              "              title=\"Convert this dataframe to an interactive table.\"\n",
              "              style=\"display:none;\">\n",
              "        \n",
              "  <svg xmlns=\"http://www.w3.org/2000/svg\" height=\"24px\"viewBox=\"0 0 24 24\"\n",
              "       width=\"24px\">\n",
              "    <path d=\"M0 0h24v24H0V0z\" fill=\"none\"/>\n",
              "    <path d=\"M18.56 5.44l.94 2.06.94-2.06 2.06-.94-2.06-.94-.94-2.06-.94 2.06-2.06.94zm-11 1L8.5 8.5l.94-2.06 2.06-.94-2.06-.94L8.5 2.5l-.94 2.06-2.06.94zm10 10l.94 2.06.94-2.06 2.06-.94-2.06-.94-.94-2.06-.94 2.06-2.06.94z\"/><path d=\"M17.41 7.96l-1.37-1.37c-.4-.4-.92-.59-1.43-.59-.52 0-1.04.2-1.43.59L10.3 9.45l-7.72 7.72c-.78.78-.78 2.05 0 2.83L4 21.41c.39.39.9.59 1.41.59.51 0 1.02-.2 1.41-.59l7.78-7.78 2.81-2.81c.8-.78.8-2.07 0-2.86zM5.41 20L4 18.59l7.72-7.72 1.47 1.35L5.41 20z\"/>\n",
              "  </svg>\n",
              "      </button>\n",
              "      \n",
              "  <style>\n",
              "    .colab-df-container {\n",
              "      display:flex;\n",
              "      flex-wrap:wrap;\n",
              "      gap: 12px;\n",
              "    }\n",
              "\n",
              "    .colab-df-convert {\n",
              "      background-color: #E8F0FE;\n",
              "      border: none;\n",
              "      border-radius: 50%;\n",
              "      cursor: pointer;\n",
              "      display: none;\n",
              "      fill: #1967D2;\n",
              "      height: 32px;\n",
              "      padding: 0 0 0 0;\n",
              "      width: 32px;\n",
              "    }\n",
              "\n",
              "    .colab-df-convert:hover {\n",
              "      background-color: #E2EBFA;\n",
              "      box-shadow: 0px 1px 2px rgba(60, 64, 67, 0.3), 0px 1px 3px 1px rgba(60, 64, 67, 0.15);\n",
              "      fill: #174EA6;\n",
              "    }\n",
              "\n",
              "    [theme=dark] .colab-df-convert {\n",
              "      background-color: #3B4455;\n",
              "      fill: #D2E3FC;\n",
              "    }\n",
              "\n",
              "    [theme=dark] .colab-df-convert:hover {\n",
              "      background-color: #434B5C;\n",
              "      box-shadow: 0px 1px 3px 1px rgba(0, 0, 0, 0.15);\n",
              "      filter: drop-shadow(0px 1px 2px rgba(0, 0, 0, 0.3));\n",
              "      fill: #FFFFFF;\n",
              "    }\n",
              "  </style>\n",
              "\n",
              "      <script>\n",
              "        const buttonEl =\n",
              "          document.querySelector('#df-107443f4-cc92-498a-983c-9596dc97dbbb button.colab-df-convert');\n",
              "        buttonEl.style.display =\n",
              "          google.colab.kernel.accessAllowed ? 'block' : 'none';\n",
              "\n",
              "        async function convertToInteractive(key) {\n",
              "          const element = document.querySelector('#df-107443f4-cc92-498a-983c-9596dc97dbbb');\n",
              "          const dataTable =\n",
              "            await google.colab.kernel.invokeFunction('convertToInteractive',\n",
              "                                                     [key], {});\n",
              "          if (!dataTable) return;\n",
              "\n",
              "          const docLinkHtml = 'Like what you see? Visit the ' +\n",
              "            '<a target=\"_blank\" href=https://colab.research.google.com/notebooks/data_table.ipynb>data table notebook</a>'\n",
              "            + ' to learn more about interactive tables.';\n",
              "          element.innerHTML = '';\n",
              "          dataTable['output_type'] = 'display_data';\n",
              "          await google.colab.output.renderOutput(dataTable, element);\n",
              "          const docLink = document.createElement('div');\n",
              "          docLink.innerHTML = docLinkHtml;\n",
              "          element.appendChild(docLink);\n",
              "        }\n",
              "      </script>\n",
              "    </div>\n",
              "  </div>\n",
              "  "
            ]
          },
          "metadata": {},
          "execution_count": 8
        }
      ]
    },
    {
      "cell_type": "code",
      "source": [
        "df[df['grupo'].isna()]"
      ],
      "metadata": {
        "colab": {
          "base_uri": "https://localhost:8080/",
          "height": 176
        },
        "id": "lKF8BazK3mCM",
        "outputId": "d1e86ca0-26f1-4675-8462-1f04552cdae6"
      },
      "execution_count": null,
      "outputs": [
        {
          "output_type": "execute_result",
          "data": {
            "text/plain": [
              "      ano  periodo estudante  ira_nb1  ira_mr1  ira_nb3  rec_s1  rec_s2  \\\n",
              "116  2013        3  1B37A780    42.26    44.68    44.47     8.0     9.0   \n",
              "436  2016        4  299A5814    58.82    68.41    68.22     6.0     5.0   \n",
              "\n",
              "     qtd_disciplinas    ap   ac   rt   rf resultado_final situacao_atual  \\\n",
              "116               19  12.0  0.0  0.0  7.0        Aprovado         Evasão   \n",
              "436               17  16.0  0.0  0.0  1.0        Aprovado      Concluído   \n",
              "\n",
              "     grupo  \n",
              "116    NaN  \n",
              "436    NaN  "
            ],
            "text/html": [
              "\n",
              "  <div id=\"df-5cb9db6b-d437-4e33-be08-fd1ce37136ff\">\n",
              "    <div class=\"colab-df-container\">\n",
              "      <div>\n",
              "<style scoped>\n",
              "    .dataframe tbody tr th:only-of-type {\n",
              "        vertical-align: middle;\n",
              "    }\n",
              "\n",
              "    .dataframe tbody tr th {\n",
              "        vertical-align: top;\n",
              "    }\n",
              "\n",
              "    .dataframe thead th {\n",
              "        text-align: right;\n",
              "    }\n",
              "</style>\n",
              "<table border=\"1\" class=\"dataframe\">\n",
              "  <thead>\n",
              "    <tr style=\"text-align: right;\">\n",
              "      <th></th>\n",
              "      <th>ano</th>\n",
              "      <th>periodo</th>\n",
              "      <th>estudante</th>\n",
              "      <th>ira_nb1</th>\n",
              "      <th>ira_mr1</th>\n",
              "      <th>ira_nb3</th>\n",
              "      <th>rec_s1</th>\n",
              "      <th>rec_s2</th>\n",
              "      <th>qtd_disciplinas</th>\n",
              "      <th>ap</th>\n",
              "      <th>ac</th>\n",
              "      <th>rt</th>\n",
              "      <th>rf</th>\n",
              "      <th>resultado_final</th>\n",
              "      <th>situacao_atual</th>\n",
              "      <th>grupo</th>\n",
              "    </tr>\n",
              "  </thead>\n",
              "  <tbody>\n",
              "    <tr>\n",
              "      <th>116</th>\n",
              "      <td>2013</td>\n",
              "      <td>3</td>\n",
              "      <td>1B37A780</td>\n",
              "      <td>42.26</td>\n",
              "      <td>44.68</td>\n",
              "      <td>44.47</td>\n",
              "      <td>8.0</td>\n",
              "      <td>9.0</td>\n",
              "      <td>19</td>\n",
              "      <td>12.0</td>\n",
              "      <td>0.0</td>\n",
              "      <td>0.0</td>\n",
              "      <td>7.0</td>\n",
              "      <td>Aprovado</td>\n",
              "      <td>Evasão</td>\n",
              "      <td>NaN</td>\n",
              "    </tr>\n",
              "    <tr>\n",
              "      <th>436</th>\n",
              "      <td>2016</td>\n",
              "      <td>4</td>\n",
              "      <td>299A5814</td>\n",
              "      <td>58.82</td>\n",
              "      <td>68.41</td>\n",
              "      <td>68.22</td>\n",
              "      <td>6.0</td>\n",
              "      <td>5.0</td>\n",
              "      <td>17</td>\n",
              "      <td>16.0</td>\n",
              "      <td>0.0</td>\n",
              "      <td>0.0</td>\n",
              "      <td>1.0</td>\n",
              "      <td>Aprovado</td>\n",
              "      <td>Concluído</td>\n",
              "      <td>NaN</td>\n",
              "    </tr>\n",
              "  </tbody>\n",
              "</table>\n",
              "</div>\n",
              "      <button class=\"colab-df-convert\" onclick=\"convertToInteractive('df-5cb9db6b-d437-4e33-be08-fd1ce37136ff')\"\n",
              "              title=\"Convert this dataframe to an interactive table.\"\n",
              "              style=\"display:none;\">\n",
              "        \n",
              "  <svg xmlns=\"http://www.w3.org/2000/svg\" height=\"24px\"viewBox=\"0 0 24 24\"\n",
              "       width=\"24px\">\n",
              "    <path d=\"M0 0h24v24H0V0z\" fill=\"none\"/>\n",
              "    <path d=\"M18.56 5.44l.94 2.06.94-2.06 2.06-.94-2.06-.94-.94-2.06-.94 2.06-2.06.94zm-11 1L8.5 8.5l.94-2.06 2.06-.94-2.06-.94L8.5 2.5l-.94 2.06-2.06.94zm10 10l.94 2.06.94-2.06 2.06-.94-2.06-.94-.94-2.06-.94 2.06-2.06.94z\"/><path d=\"M17.41 7.96l-1.37-1.37c-.4-.4-.92-.59-1.43-.59-.52 0-1.04.2-1.43.59L10.3 9.45l-7.72 7.72c-.78.78-.78 2.05 0 2.83L4 21.41c.39.39.9.59 1.41.59.51 0 1.02-.2 1.41-.59l7.78-7.78 2.81-2.81c.8-.78.8-2.07 0-2.86zM5.41 20L4 18.59l7.72-7.72 1.47 1.35L5.41 20z\"/>\n",
              "  </svg>\n",
              "      </button>\n",
              "      \n",
              "  <style>\n",
              "    .colab-df-container {\n",
              "      display:flex;\n",
              "      flex-wrap:wrap;\n",
              "      gap: 12px;\n",
              "    }\n",
              "\n",
              "    .colab-df-convert {\n",
              "      background-color: #E8F0FE;\n",
              "      border: none;\n",
              "      border-radius: 50%;\n",
              "      cursor: pointer;\n",
              "      display: none;\n",
              "      fill: #1967D2;\n",
              "      height: 32px;\n",
              "      padding: 0 0 0 0;\n",
              "      width: 32px;\n",
              "    }\n",
              "\n",
              "    .colab-df-convert:hover {\n",
              "      background-color: #E2EBFA;\n",
              "      box-shadow: 0px 1px 2px rgba(60, 64, 67, 0.3), 0px 1px 3px 1px rgba(60, 64, 67, 0.15);\n",
              "      fill: #174EA6;\n",
              "    }\n",
              "\n",
              "    [theme=dark] .colab-df-convert {\n",
              "      background-color: #3B4455;\n",
              "      fill: #D2E3FC;\n",
              "    }\n",
              "\n",
              "    [theme=dark] .colab-df-convert:hover {\n",
              "      background-color: #434B5C;\n",
              "      box-shadow: 0px 1px 3px 1px rgba(0, 0, 0, 0.15);\n",
              "      filter: drop-shadow(0px 1px 2px rgba(0, 0, 0, 0.3));\n",
              "      fill: #FFFFFF;\n",
              "    }\n",
              "  </style>\n",
              "\n",
              "      <script>\n",
              "        const buttonEl =\n",
              "          document.querySelector('#df-5cb9db6b-d437-4e33-be08-fd1ce37136ff button.colab-df-convert');\n",
              "        buttonEl.style.display =\n",
              "          google.colab.kernel.accessAllowed ? 'block' : 'none';\n",
              "\n",
              "        async function convertToInteractive(key) {\n",
              "          const element = document.querySelector('#df-5cb9db6b-d437-4e33-be08-fd1ce37136ff');\n",
              "          const dataTable =\n",
              "            await google.colab.kernel.invokeFunction('convertToInteractive',\n",
              "                                                     [key], {});\n",
              "          if (!dataTable) return;\n",
              "\n",
              "          const docLinkHtml = 'Like what you see? Visit the ' +\n",
              "            '<a target=\"_blank\" href=https://colab.research.google.com/notebooks/data_table.ipynb>data table notebook</a>'\n",
              "            + ' to learn more about interactive tables.';\n",
              "          element.innerHTML = '';\n",
              "          dataTable['output_type'] = 'display_data';\n",
              "          await google.colab.output.renderOutput(dataTable, element);\n",
              "          const docLink = document.createElement('div');\n",
              "          docLink.innerHTML = docLinkHtml;\n",
              "          element.appendChild(docLink);\n",
              "        }\n",
              "      </script>\n",
              "    </div>\n",
              "  </div>\n",
              "  "
            ]
          },
          "metadata": {},
          "execution_count": 162
        }
      ]
    },
    {
      "cell_type": "code",
      "source": [
        "matriz = [[1,0,2,0,3],[0,4,0,5,0],[6,0,7,0,8]]"
      ],
      "metadata": {
        "id": "O4wD1-Xbzzzu"
      },
      "execution_count": null,
      "outputs": []
    },
    {
      "cell_type": "code",
      "source": [
        "matriz[1][3]"
      ],
      "metadata": {
        "colab": {
          "base_uri": "https://localhost:8080/"
        },
        "id": "qDRTHh83z87y",
        "outputId": "b5691993-8dbb-4ab4-a08d-fdc48f1a07da"
      },
      "execution_count": null,
      "outputs": [
        {
          "output_type": "execute_result",
          "data": {
            "text/plain": [
              "5"
            ]
          },
          "metadata": {},
          "execution_count": 112
        }
      ]
    },
    {
      "cell_type": "code",
      "source": [
        ""
      ],
      "metadata": {
        "colab": {
          "base_uri": "https://localhost:8080/"
        },
        "id": "MhAFX6Nq0fhi",
        "outputId": "b15d11c4-acbf-49a7-9f2b-062b19e5421d"
      },
      "execution_count": null,
      "outputs": [
        {
          "output_type": "execute_result",
          "data": {
            "text/plain": [
              "1"
            ]
          },
          "metadata": {},
          "execution_count": 116
        }
      ]
    },
    {
      "cell_type": "code",
      "source": [
        "matriz_entrada = [0,0,0,0,0]\n",
        "matriz_trasicao = [[0,0,0,0,0],[0,0,0,0,0],[0,0,0,0,0],[0,0,0,0,0],[0,0,0,0,0]]\n",
        "for estudante in Estudantes:\n",
        "  array = np.array(df[df['estudante']==estudante]['periodo'])\n",
        "  for i in range(len(array)):\n",
        "    if i == 0:\n",
        "      posicao = int(np.array(df[df['estudante']==estudante]['grupo'])[i])+2\n",
        "      matriz_entrada[posicao] = matriz_entrada[posicao] + 1\n",
        "      posicao_anterior = posicao\n",
        "    else:\n",
        "      posicao = int(np.array(df[df['estudante']==estudante]['grupo'])[i])+2\n",
        "      matriz_trasicao[posicao_anterior][posicao] = matriz_trasicao[posicao_anterior][posicao] + 1\n",
        "      posicao_anterior = posicao\n",
        "matriz_entrada,matriz_trasicao"
      ],
      "metadata": {
        "colab": {
          "base_uri": "https://localhost:8080/"
        },
        "id": "FsDNY1loyM2H",
        "outputId": "e5ff92f4-7752-492c-9a3d-5b4766b4bc27"
      },
      "execution_count": null,
      "outputs": [
        {
          "output_type": "execute_result",
          "data": {
            "text/plain": [
              "([14, 65, 40, 114, 16],\n",
              " [[1, 2, 0, 0, 0],\n",
              "  [3, 19, 15, 29, 0],\n",
              "  [2, 16, 18, 24, 1],\n",
              "  [1, 15, 33, 163, 12],\n",
              "  [0, 1, 0, 12, 15]])"
            ]
          },
          "metadata": {},
          "execution_count": 136
        }
      ]
    },
    {
      "cell_type": "code",
      "source": [
        "entrada = [0,0,0,0,0]\n",
        "transicao = [[\n",
        "             [0,0,0,0,0,0,0],\n",
        "             [0,0,0,0,0,0,0],\n",
        "             [0,0,0,0,0,0,0],\n",
        "             [0,0,0,0,0,0,0],\n",
        "             [0,0,0,0,0,0,0]\n",
        "            ],\n",
        "            [\n",
        "             [0,0,0,0,0,0,0],\n",
        "             [0,0,0,0,0,0,0],\n",
        "             [0,0,0,0,0,0,0],\n",
        "             [0,0,0,0,0,0,0],\n",
        "             [0,0,0,0,0,0,0]\n",
        "            ],\n",
        "            [\n",
        "             [0,0,0,0,0,0,0],\n",
        "             [0,0,0,0,0,0,0],\n",
        "             [0,0,0,0,0,0,0],\n",
        "             [0,0,0,0,0,0,0],\n",
        "             [0,0,0,0,0,0,0]\n",
        "            ]]\n",
        "            \n",
        "\n",
        "for estudante in Estudantes:\n",
        "  array = np.array(df[df['estudante']==estudante]['periodo'])\n",
        "  for i in range(len(array)):\n",
        "    periodo = int(np.array(df[df['estudante']==estudante]['periodo'])[i])-1\n",
        "    posicao = int(np.array(df[df['estudante']==estudante]['grupo'])[i])+2\n",
        "    if i == 0:\n",
        "      entrada[posicao] = entrada[posicao] + 1\n",
        "    else:\n",
        "      per_anterior = int(np.array(df[df['estudante']==estudante]['periodo'])[i-1])-1\n",
        "      transicao[per_anterior][pos_anterior][posicao] = transicao[per_anterior][pos_anterior][posicao] + 1\n",
        "    if i == len(array)-1:\n",
        "      concluido = (np.array(df[df['estudante']==estudante]['situacao_atual'])[i] == 'Concluído')\n",
        "      terceiro_ano = (np.array(df[df['estudante']==estudante]['periodo'])[i] == 3)\n",
        "      matriculado = (np.array(df[df['estudante']==estudante]['situacao_atual'])[i] == 'Matriculado')\n",
        "      aprovado = (np.array(df[df['estudante']==estudante]['resultado_final'])[i] == 'Aprovado')\n",
        "      situacao = (concluido or (terceiro_ano and matriculado and aprovado))\n",
        "      if situacao:\n",
        "        transicao[periodo][posicao][5] = transicao[periodo][posicao][5] + 1\n",
        "      else:\n",
        "        transicao[periodo][posicao][6] = transicao[periodo][posicao][6] + 1\n",
        "        if (periodo == 2) & (posicao==1):\n",
        "          print(estudante)\n",
        "    pos_anterior = posicao\n",
        "entrada,transicao"
      ],
      "metadata": {
        "colab": {
          "base_uri": "https://localhost:8080/"
        },
        "id": "haN77nu79MEr",
        "outputId": "bf20b131-16fe-4340-f323-da119ba4f995"
      },
      "execution_count": null,
      "outputs": [
        {
          "output_type": "stream",
          "name": "stdout",
          "text": [
            "73CCBC0E\n",
            "84266AEC\n",
            "C74E981C\n",
            "6B81CDD5\n",
            "FE774FC1\n",
            "145911B1\n",
            "74E3031D\n",
            "0D82B7E3\n",
            "DE1CC7BA\n"
          ]
        },
        {
          "output_type": "execute_result",
          "data": {
            "text/plain": [
              "([14, 65, 40, 111, 15],\n",
              " [[[0, 1, 0, 0, 0, 0, 15],\n",
              "   [2, 18, 12, 21, 0, 0, 31],\n",
              "   [0, 9, 11, 12, 0, 0, 20],\n",
              "   [1, 13, 20, 83, 4, 0, 11],\n",
              "   [0, 1, 0, 6, 8, 0, 0]],\n",
              "  [[1, 0, 0, 0, 0, 0, 2],\n",
              "   [1, 1, 3, 7, 0, 0, 12],\n",
              "   [2, 7, 7, 12, 1, 0, 5],\n",
              "   [0, 2, 12, 78, 8, 0, 8],\n",
              "   [0, 0, 0, 6, 6, 0, 0]],\n",
              "  [[0, 1, 0, 0, 0, 0, 1],\n",
              "   [0, 0, 0, 1, 0, 0, 9],\n",
              "   [0, 0, 0, 0, 0, 19, 0],\n",
              "   [0, 0, 0, 0, 0, 97, 0],\n",
              "   [0, 0, 0, 0, 0, 15, 0]]])"
            ]
          },
          "metadata": {},
          "execution_count": 4
        }
      ]
    },
    {
      "cell_type": "code",
      "source": [
        "periodo"
      ],
      "metadata": {
        "colab": {
          "base_uri": "https://localhost:8080/"
        },
        "id": "4Q2JyBIQbYO4",
        "outputId": "84600e99-b2a2-4aa1-ae05-ae0c0d130081"
      },
      "execution_count": null,
      "outputs": [
        {
          "output_type": "execute_result",
          "data": {
            "text/plain": [
              "3"
            ]
          },
          "metadata": {},
          "execution_count": 166
        }
      ]
    },
    {
      "cell_type": "code",
      "source": [
        "soma = np.array(entrada).sum()\n",
        "for i in range(len(entrada)):\n",
        "  entrada[i] = round(entrada[i]/soma, 3)\n",
        "for i in range(len(transicao)):\n",
        "  for j in range(len(transicao[i])):\n",
        "    soma = np.array(transicao[i][j]).sum()\n",
        "    if soma:\n",
        "      for k in range(len(transicao[i][j])):\n",
        "        transicao[i][j][k] = round(transicao[i][j][k]/soma, 3)\n",
        "entrada,transicao"
      ],
      "metadata": {
        "colab": {
          "base_uri": "https://localhost:8080/"
        },
        "id": "8uvx0XQW9zT5",
        "outputId": "f54c5eac-d89d-4d0c-ed0d-b099b43bb7ef"
      },
      "execution_count": null,
      "outputs": [
        {
          "output_type": "execute_result",
          "data": {
            "text/plain": [
              "([0.057, 0.265, 0.163, 0.453, 0.061],\n",
              " [[[0.0, 0.062, 0.0, 0.0, 0.0, 0.0, 0.938],\n",
              "   [0.024, 0.214, 0.143, 0.25, 0.0, 0.0, 0.369],\n",
              "   [0.0, 0.173, 0.212, 0.231, 0.0, 0.0, 0.385],\n",
              "   [0.008, 0.098, 0.152, 0.629, 0.03, 0.0, 0.083],\n",
              "   [0.0, 0.067, 0.0, 0.4, 0.533, 0.0, 0.0]],\n",
              "  [[0.333, 0.0, 0.0, 0.0, 0.0, 0.0, 0.667],\n",
              "   [0.042, 0.042, 0.125, 0.292, 0.0, 0.0, 0.5],\n",
              "   [0.059, 0.206, 0.206, 0.353, 0.029, 0.0, 0.147],\n",
              "   [0.0, 0.019, 0.111, 0.722, 0.074, 0.0, 0.074],\n",
              "   [0.0, 0.0, 0.0, 0.5, 0.5, 0.0, 0.0]],\n",
              "  [[0.0, 0.5, 0.0, 0.0, 0.0, 0.0, 0.5],\n",
              "   [0.0, 0.0, 0.0, 0.1, 0.0, 0.0, 0.9],\n",
              "   [0.0, 0.0, 0.0, 0.0, 0.0, 1.0, 0.0],\n",
              "   [0.0, 0.0, 0.0, 0.0, 0.0, 1.0, 0.0],\n",
              "   [0.0, 0.0, 0.0, 0.0, 0.0, 1.0, 0.0]]])"
            ]
          },
          "metadata": {},
          "execution_count": 25
        }
      ]
    },
    {
      "cell_type": "code",
      "source": [
        "estudante,i,posicao,periodo"
      ],
      "metadata": {
        "colab": {
          "base_uri": "https://localhost:8080/"
        },
        "id": "Mys_qBcQ3Xwx",
        "outputId": "210e0e13-dbcb-4347-fd4f-04045e397377"
      },
      "execution_count": null,
      "outputs": [
        {
          "output_type": "execute_result",
          "data": {
            "text/plain": [
              "('81D4E651', 2, 3, 2)"
            ]
          },
          "metadata": {},
          "execution_count": 131
        }
      ]
    }
  ]
}